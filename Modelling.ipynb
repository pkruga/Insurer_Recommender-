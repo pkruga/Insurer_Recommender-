{
  "nbformat": 4,
  "nbformat_minor": 0,
  "metadata": {
    "colab": {
      "provenance": []
    },
    "kernelspec": {
      "name": "python3",
      "display_name": "Python 3"
    },
    "language_info": {
      "name": "python"
    }
  },
  "cells": [
    {
      "cell_type": "markdown",
      "source": [
        "# **Recommender System for Best Insurance Provider  in Kenya**"
      ],
      "metadata": {
        "id": "FJvgbbLtkrAh"
      }
    },
    {
      "cell_type": "markdown",
      "source": [
        "## **Business Understanding**"
      ],
      "metadata": {
        "id": "X4Y4nOzduqKT"
      }
    },
    {
      "cell_type": "markdown",
      "metadata": {
        "id": "zWU8NcRNVr8H"
      },
      "source": [
        "According to Cytonn's report on Kenya's listed insurance sector for H1 2023, insurance penetration in Kenya remains historically low. As of FY 2022, penetration stood at just 2.3%, according to the Kenya National Bureau of Statistics (KNBS) 2023 Economic Survey. This is notably below the global average of 7.0%, as reported by the Swiss Re Institute. The low penetration rate is largely attributed to the perception of insurance as a luxury rather than a necessity, and it is often purchased only when required or mandated by regulation. Additionally, a pervasive mistrust of insurance providers has significantly contributed to the low uptake.\n",
        "\n",
        "Despite the critical importance of non-liability insurance—such as health, property, and personal accident coverage—for financial protection against unforeseen events, many individuals find it challenging to identify a trustworthy insurance provider due to opaque information on claim settlement records. This project seeks to address this pressing issue by simplifying the process of selecting a suitable insurance provider based on their performance in settling non-liability claims. By enhancing transparency and fostering trust in insurance providers, the project aims to boost insurance uptake and overall customer satisfaction."
      ]
    },
    {
      "cell_type": "code",
      "source": [
        "# Assigning the text in the previous cell to a variable named Business_understanding\n",
        "\n",
        "Business_understanding = \"\"\"# # **Recommender System for Best Insurance Provider  in Kenya**\n",
        "# ## **Business Understanding**\n",
        "# According to Cytonn's report on Kenya's listed insurance sector for H1 2023, insurance penetration in Kenya remains historically low. As of FY 2022, penetration stood at just 2.3%, according to the Kenya National Bureau of Statistics (KNBS) 2023 Economic Survey. This is notably below the global average of 7.0%, as reported by the Swiss Re Institute. The low penetration rate is largely attributed to the perception of insurance as a luxury rather than a necessity, and it is often purchased only when required or mandated by regulation. Additionally, a pervasive mistrust of insurance providers has significantly contributed to the low uptake.\n",
        "#\n",
        "# Despite the critical importance of non-liability insurance—such as health, property, and personal accident coverage—for financial protection against unforeseen events, many individuals find it challenging to identify a trustworthy insurance provider due to opaque information on claim settlement records. This project seeks to address this pressing issue by simplifying the process of selecting a suitable insurance provider based on their performance in settling non-liability claims. By enhancing transparency and fostering trust in insurance providers, the project aims to boost insurance uptake and overall customer satisfaction.\"\"\"\n"
      ],
      "metadata": {
        "id": "IEcsgS62osl9"
      },
      "execution_count": null,
      "outputs": []
    },
    {
      "cell_type": "markdown",
      "source": [
        "## **Problem Statement**"
      ],
      "metadata": {
        "id": "89mWsnyhu35e"
      }
    },
    {
      "cell_type": "markdown",
      "metadata": {
        "id": "HU1ys74kV6et"
      },
      "source": [
        "Kenya faces a significant challenge with low insurance penetration, standing at just 2.3% as of FY 2022, well below the global average of 7.0%. This disparity is largely due to the perception of insurance as a luxury rather than a necessity, coupled with widespread mistrust towards insurance providers. Many Kenyans only purchase insurance when mandated or compelled by regulation, undermining the financial protection benefits offered by non-liability insurance such as health, property, and personal accident coverage."
      ]
    },
    {
      "cell_type": "code",
      "source": [
        "# Assigning the text in the previous cell to a variable named problem statement\n",
        "\n",
        "problem_statement = \"\"\"#\n",
        "# ## **Problem Statement**\n",
        "# Kenya faces a significant challenge with low insurance penetration, standing at just 2.3% as of FY 2022, well below the global average of 7.0%. This disparity is largely due to the perception of insurance as a luxury rather than a necessity, coupled with widespread mistrust towards insurance providers. Many Kenyans only purchase insurance when mandated or compelled by regulation, undermining the financial protection benefits offered by non-liability insurance such as health, property, and personal accident coverage.\"\"\"\n"
      ],
      "metadata": {
        "id": "5nj7RdBeo5rY"
      },
      "execution_count": null,
      "outputs": []
    },
    {
      "cell_type": "markdown",
      "source": [
        "## **Objectives**"
      ],
      "metadata": {
        "id": "EAsXT7Xou9U9"
      }
    },
    {
      "cell_type": "markdown",
      "metadata": {
        "id": "WjvSm2RCWCs6"
      },
      "source": [
        "Our project aims to address the challenges outlined in the business understanding and problem statement by developing a recommender system for the Kenyan insurance market. This system will leverage historical data to assess insurers based on their non-liability claim settlement performance. By offering transparent insights into insurer reliability and fostering trust between consumers and providers, we strive to achieve the following objectives:\n",
        "\n",
        "1. **Enhanced Transparency:** Provide clear and detailed information on insurers' performance to improve market transparency and empower customers to make informed decisions.\n",
        "\n",
        "2. **Increased Customer Trust:** Build greater trust between customers and insurance providers by showcasing insurers' reliability in settling non-liability claims.\n",
        "\n",
        "3. **Boosted Insurance Uptake:** Encourage increased insurance adoption by simplifying the process of finding trustworthy insurers, thereby raising overall market penetration.\n",
        "\n",
        "4. **Improved Customer Satisfaction:** Guide customers towards insurers with strong claim settlement records to enhance their overall satisfaction with the insurance experience."
      ]
    },
    {
      "cell_type": "code",
      "source": [
        "# Write objectives based on the Business_understanding and problem_statement variables and assign it a variable called objectives.\n",
        "\n",
        "objectives = \"\"\"### **Objectives**\n",
        "\n",
        "Our project aims to address the challenges outlined in the business understanding and problem statement by developing a recommender system for the Kenyan insurance market. This system will leverage historical data to assess insurers based on their non-liability claim settlement performance. By offering transparent insights into insurer reliability and fostering trust between consumers and providers, we strive to achieve the following objectives:\n",
        "\n",
        "1. **Enhanced Transparency:** Provide clear and detailed information on insurers' performance to improve market transparency and empower customers to make informed decisions.\n",
        "\n",
        "2. **Increased Customer Trust:** Build greater trust between customers and insurance providers by showcasing insurers' reliability in settling non-liability claims.\n",
        "\n",
        "3. **Boosted Insurance Uptake:** Encourage increased insurance adoption by simplifying the process of finding trustworthy insurers, thereby raising overall market penetration.\n",
        "\n",
        "4. **Improved Customer Satisfaction:** Guide customers towards insurers with strong claim settlement records to enhance their overall satisfaction with the insurance experience.\"\"\"\n",
        "print(objectives)\n"
      ],
      "metadata": {
        "colab": {
          "base_uri": "https://localhost:8080/"
        },
        "id": "4r5pZXuFojxc",
        "outputId": "0798136c-7540-4f59-b9b0-e85e3e3070b8"
      },
      "execution_count": null,
      "outputs": [
        {
          "output_type": "stream",
          "name": "stdout",
          "text": [
            "### **Objectives**\n",
            "\n",
            "Our project aims to address the challenges outlined in the business understanding and problem statement by developing a recommender system for the Kenyan insurance market. This system will leverage historical data to assess insurers based on their non-liability claim settlement performance. By offering transparent insights into insurer reliability and fostering trust between consumers and providers, we strive to achieve the following objectives:\n",
            "\n",
            "1. **Enhanced Transparency:** Provide clear and detailed information on insurers' performance to improve market transparency and empower customers to make informed decisions.\n",
            "\n",
            "2. **Increased Customer Trust:** Build greater trust between customers and insurance providers by showcasing insurers' reliability in settling non-liability claims.\n",
            "\n",
            "3. **Boosted Insurance Uptake:** Encourage increased insurance adoption by simplifying the process of finding trustworthy insurers, thereby raising overall market penetration.\n",
            "\n",
            "4. **Improved Customer Satisfaction:** Guide customers towards insurers with strong claim settlement records to enhance their overall satisfaction with the insurance experience.\n"
          ]
        }
      ]
    },
    {
      "cell_type": "markdown",
      "metadata": {
        "id": "2D9aTAcfWMla"
      },
      "source": [
        "## **Metrics of Success**\n"
      ]
    },
    {
      "cell_type": "markdown",
      "source": [
        "**Prediction Accuracy Metrics**\n",
        "\n",
        "1. **RMSE (Root Mean Squared Error)**: For prediction of claim amounts or settlement amounts, RMSE measures the difference between predicted and actual values. Lower RMSE indicates better accuracy. It will serve as our target metric and any RMSE of 1-2% of the mean will be deemed acceptable with 1% being preferred.\n",
        "\n",
        "2. **MAE (Mean Absolute Error)**: Similar to RMSE but less sensitive to outliers. It measures the average absolute difference between predicted and actual values. Not necessarily predetermined but anything < 0.5 will be considered good.\n",
        "\n",
        "3. **R-squared (R²)**:  Indicates how well the model explains the variability of the target variable. Higher values indicate better performance. Any value above 0.85 will be considered as good."
      ],
      "metadata": {
        "id": "i8YCdGPSaX3x"
      }
    },
    {
      "cell_type": "code",
      "source": [
        "# Assigning the text from the previous cell to a variable called metrics\n",
        "\n",
        "metrics = \"\"\"# ## **Metrics of Success**\n",
        "#\n",
        "# **Prediction Accuracy Metrics**\n",
        "#\n",
        "# 1. **RMSE (Root Mean Squared Error)**: For prediction of claim amounts or settlement amounts, RMSE measures the difference between predicted and actual values. Lower RMSE indicates better accuracy. It will serve as our target metric and any RMSE of 1-2% of the mean will be deemed acceptable with 1% being preferred.\n",
        "#\n",
        "# 2. **MAE (Mean Absolute Error)**: Similar to RMSE but less sensitive to outliers. It measures the average absolute difference between predicted and actual values. Not necessarily predetermined but anything < 0.5 will be considered good.\n",
        "#\n",
        "# 3. **R-squared (R²)**:  Indicates how well the model explains the variability of the target variable. Higher values indicate better performance. Any value above 0.85 will be considered as good.\"\"\"\n"
      ],
      "metadata": {
        "id": "IWONoWxhgNVg"
      },
      "execution_count": null,
      "outputs": []
    },
    {
      "cell_type": "markdown",
      "source": [
        "## **Data Understanding**"
      ],
      "metadata": {
        "id": "7Wmm4KouX58K"
      }
    },
    {
      "cell_type": "markdown",
      "metadata": {
        "id": "msQ0ioi0WXjQ"
      },
      "source": [
        "Our approach will involve analyzing aggregated data from multiple sources, including historical claim settlement records, insurer performance metrics, and customer feedback. By normalizing and processing this data, we aim to develop a robust recommendation model that aligns with consumer needs and market dynamics.\n",
        "\n",
        "The dataset obtained from Insurance Regulatory Authority(IRA) website (https://www.ira.go.ke/index.php/publications/statistical-reports/claims-settlement-*statistics*) contains the following columns:\n",
        "\n",
        "* **Date**: End date of the quarter.\n",
        "\n",
        "* **Insurer**: Name of the insurance company.\n",
        "\n",
        "* **Claims_outstanding_at_the_beginning**: Claims outstanding at the beginning of the period.\n",
        "\n",
        "* **Claims_intimated**: The initial notification or reporting of a claim by a policyholder to their insurance company.\n",
        "\n",
        "* **Claims_revived**:  insurance claims that were previously closed, denied, or settled but have been reopened for reconsideration or additional processing.\n",
        "\n",
        "* **Total_Claims_Payable**: Total claims payable (summation of claims outstanding at the beginning, claims intimated, and claims revived).\n",
        "\n",
        "* **Claims_paid**: these are the claims paid by the insurers during the quarter. The claims paid may include those outstanding at the beginning of the period and those intimated and revived during the quarter.\n",
        "\n",
        "* **Claims_declined**: Claims declined during the period.\n",
        "\n",
        "* **Claims_closed_as_no_claims**: notified claims for which the insurer\n",
        "makes provisions for liability, but the liability does not crystalize during the quarter.\n",
        "\n",
        "* **Total_Claims_Action_during_the_Quarter**: summation of the number of\n",
        "claims paid, claims declined, claims closed as no claims, and claims\n",
        "outstanding at the end of the quarter.\n",
        "\n",
        "* **Claims_outstanding_at_the_end**: Claims outstanding at the end of the period. Calculated as the subtraction of total claims action during the quarter from the total claims payable during the quarter.\n",
        "\n",
        "* **Claims_declined_ratio_(%)**:  proportion of the number of claims declined in relation to the total\n",
        "number of claims actionable during the quarter\n",
        "\n",
        "* **Claims_closed_as_no_claims_ratio (%)**: proportion of claims closed as no claims in relation to the total number\n",
        "of claims actionable during the quarter.\n",
        "\n",
        "* **Claim_payment_ratio_(%)**: proportion of the number of claims paid in relation to the total number\n",
        "of claims actionable during the quarter.\n",
        "\n",
        "* **Claim_payment_ratio_(%)_prev**: Previous quarter claim payment ratio."
      ]
    },
    {
      "cell_type": "code",
      "source": [
        "# Assigning the text from the previous cell to a variable called features.\n",
        "\n",
        "column_features = \"\"\"# ## **Data Understanding**\n",
        "# Our approach will involve analyzing aggregated data from multiple sources, including historical claim settlement records, insurer performance metrics, and customer feedback. By normalizing and processing this data, we aim to develop a robust recommendation model that aligns with consumer needs and market dynamics.\n",
        "#\n",
        "# The dataset obtained from Insurance Regulatory Authority(IRA) website (https://www.ira.go.ke/index.php/publications/statistical-reports/claims-settlement-*statistics*) contains the following columns:\n",
        "#\n",
        "# * **Date**: End date of the quarter.\n",
        "#\n",
        "# * **Insurer**: Name of the insurance company.\n",
        "#\n",
        "# * **Claims_outstanding_at_the_beginning**: Claims outstanding at the beginning of the period.\n",
        "#\n",
        "# * **Claims_intimated**: The initial notification or reporting of a claim by a policyholder to their insurance company.\n",
        "#\n",
        "# * **Claims_revived**:  insurance claims that were previously closed, denied, or settled but have been reopened for reconsideration or additional processing.\n",
        "#\n",
        "# * **Total_Claims_Payable**: Total claims payable (summation of claims outstanding at the beginning, claims intimated, and claims revived).\n",
        "#\n",
        "# * **Claims_paid**: these are the claims paid by the insurers during the quarter. The claims paid may include those outstanding at the beginning of the period and those intimated and revived during the quarter.\n",
        "#\n",
        "# * **Claims_declined**: Claims declined during the period.\n",
        "#\n",
        "# * **Claims_closed_as_no_claims**: notified claims for which the insurer\n",
        "# makes provisions for liability, but the liability does not crystalize during the quarter.\n",
        "#\n",
        "# * **Total_Claims_Action_during_the_Quarter**: summation of the number of\n",
        "# claims paid, claims declined, claims closed as no claims, and claims\n",
        "# outstanding at the end of the quarter.\n",
        "#\n",
        "# * **Claims_outstanding_at_the_end**: Claims outstanding at the end of the period. Calculated as the subtraction of total claims action during the quarter from the total claims payable during the quarter.\n",
        "#\n",
        "# * **Claims_declined_ratio_(%)**:  proportion of the number of claims declined in relation to the total\n",
        "# number of claims actionable during the quarter\n",
        "#\n",
        "# * **Claims_closed_as_no_claims_ratio (%)**: proportion of claims closed as no claims in relation to the total number\n",
        "# of claims actionable during the quarter.\n",
        "#\n",
        "# * **Claim_payment_ratio_(%)**: proportion of the number of claims paid in relation to the total number\n",
        "# of claims actionable during the quarter.\n",
        "#\n",
        "# * **Claim_payment_ratio_(%)_prev**: Previous quarter claim payment ratio.\"\"\"\n"
      ],
      "metadata": {
        "id": "CLwpa47lj1r3"
      },
      "execution_count": null,
      "outputs": []
    },
    {
      "cell_type": "code",
      "source": [
        "#Identifying the possible column feature titles in the previous cell and save them as a markdown file called column_features in the content directory.\n",
        "\n",
        "%%writefile /content/column_features.md\n",
        "- Date\n",
        "- Insurer\n",
        "- Claims_outstanding_at_the_beginning\n",
        "- Claims_intimated\n",
        "- Claims_revived\n",
        "- Total_Claims_Payable\n",
        "- Claims_paid\n",
        "- Claims_declined\n",
        "- Claims_closed_as_no_claims\n",
        "- Total_Claims_Action_during_the_Quarter\n",
        "- Claims_outstanding_at_the_end\n",
        "- Claims_declined_ratio (%)\n",
        "- Claims_closed_as_no_claims_ratio (%)\n",
        "- Claim_payment_ratio (%)\n",
        "- Claim_payment_ratio (%)_prev\n"
      ],
      "metadata": {
        "colab": {
          "base_uri": "https://localhost:8080/"
        },
        "id": "OA6GCLOJp5N-",
        "outputId": "01122215-042b-45b9-cb66-87ce33f12fd3"
      },
      "execution_count": null,
      "outputs": [
        {
          "output_type": "stream",
          "name": "stdout",
          "text": [
            "Writing /content/column_features.md\n"
          ]
        }
      ]
    },
    {
      "cell_type": "markdown",
      "metadata": {
        "id": "on9llStkWhIr"
      },
      "source": [
        "**Importing Libraries**"
      ]
    },
    {
      "cell_type": "code",
      "execution_count": null,
      "metadata": {
        "id": "cl9HSEZoW0uX"
      },
      "outputs": [],
      "source": [
        "#Data importation and exportation\n",
        "import os\n",
        "from google.colab import drive\n",
        "\n",
        "#Ignore warning messages\n",
        "import warnings\n",
        "warnings.filterwarnings(\"ignore\")\n",
        "\n",
        "# Data manipulation and analysis\n",
        "import pandas as pd\n",
        "import numpy as np\n",
        "\n",
        "# Visualization\n",
        "import matplotlib.pyplot as plt\n",
        "import seaborn as sns\n",
        "import plotly.graph_objs as go\n",
        "from scipy.stats import linregress\n",
        "\n",
        "# Statistical analysis\n",
        "from scipy import stats\n",
        "from statsmodels.stats.outliers_influence import variance_inflation_factor\n",
        "\n",
        "# Machine learning (preprocessing, models, metrics)\n",
        "from sklearn.preprocessing import LabelEncoder, OrdinalEncoder, MinMaxScaler\n",
        "from sklearn.model_selection import train_test_split, GridSearchCV\n",
        "from sklearn.preprocessing import StandardScaler\n",
        "from sklearn.impute import SimpleImputer\n",
        "from sklearn.linear_model import LinearRegression\n",
        "from sklearn.metrics import mean_squared_error, r2_score, mean_absolute_error\n",
        "from sklearn.ensemble import RandomForestRegressor\n",
        "from sklearn.ensemble import GradientBoostingRegressor\n",
        "import xgboost as xgb\n",
        "from sklearn.model_selection import cross_val_score\n",
        "from sklearn.linear_model import ElasticNet\n",
        "from sklearn.ensemble import StackingRegressor"
      ]
    },
    {
      "cell_type": "code",
      "execution_count": null,
      "metadata": {
        "colab": {
          "base_uri": "https://localhost:8080/"
        },
        "id": "wclAZ1VQeW6O",
        "outputId": "09f750f0-09a3-42ee-9dbd-8f3521cf301e"
      },
      "outputs": [
        {
          "output_type": "stream",
          "name": "stdout",
          "text": [
            "   Claims_closed_as_no_claims  Claims_declined_ratio_(%)  \\\n",
            "0                    0.378057                  -0.055479   \n",
            "1                   -0.085075                  -0.223516   \n",
            "2                   -0.078313                  -0.223516   \n",
            "3                   -0.084565                  -0.223516   \n",
            "4                   -0.085075                  -0.223516   \n",
            "\n",
            "   Claim_payment_ratio_(%)  Claims_closed_as_no_claims_ratio (%)  \\\n",
            "0                 2.223808                              0.049249   \n",
            "1                -0.158895                             -0.472385   \n",
            "2                 0.440747                             -0.028991   \n",
            "3                -0.164946                             -0.167443   \n",
            "4                 0.663652                             -0.472385   \n",
            "\n",
            "   Insurer_Encoded  Reliability_Label_Encoded  \n",
            "0        -1.372682                   1.107806  \n",
            "1        -1.324615                  -1.258918  \n",
            "2        -1.276547                  -1.258918  \n",
            "3        -1.228480                  -1.258918  \n",
            "4        -1.180413                  -1.258918  \n",
            "   Reliability_Score\n",
            "0          87.497505\n",
            "1          41.152019\n",
            "2          52.453343\n",
            "3          40.656279\n",
            "4          57.404719\n"
          ]
        }
      ],
      "source": [
        "# Importing our data frames\n",
        "df_features = pd.read_csv('/content/normalized_features.csv')\n",
        "df_target = pd.read_csv('/content/target.csv')\n",
        "print(df_features.head())\n",
        "print(df_target.head())"
      ]
    },
    {
      "cell_type": "code",
      "source": [
        "# Splitting the dataset into training and testing sets\n",
        "X_train, X_test, y_train, y_test = train_test_split(df_features, df_target, test_size=0.2, random_state=42)"
      ],
      "metadata": {
        "id": "e3NtZOyAE_7d"
      },
      "execution_count": null,
      "outputs": []
    },
    {
      "cell_type": "code",
      "execution_count": null,
      "metadata": {
        "colab": {
          "base_uri": "https://localhost:8080/"
        },
        "id": "GVyWMfpB0PnM",
        "outputId": "1142cd42-c475-4533-bd3c-ded761f96d00"
      },
      "outputs": [
        {
          "output_type": "stream",
          "name": "stdout",
          "text": [
            "X_train shape: (605, 6)\n",
            "X_test shape: (152, 6)\n",
            "y_train shape: (605, 1)\n",
            "y_test shape: (152, 1)\n"
          ]
        }
      ],
      "source": [
        "print(\"X_train shape:\", X_train.shape)\n",
        "print(\"X_test shape:\", X_test.shape)\n",
        "print(\"y_train shape:\", y_train.shape)\n",
        "print(\"y_test shape:\", y_test.shape)"
      ]
    },
    {
      "cell_type": "code",
      "execution_count": null,
      "metadata": {
        "id": "4fYxEe36ErfN"
      },
      "outputs": [],
      "source": [
        "# Create an imputer object\n",
        "imputer = SimpleImputer(strategy='mean')  # Replace missing values with the mean\n",
        "\n",
        "# We fit the imputer to the training data and transform both training and testing data\n",
        "X_train_imputed = imputer.fit_transform(X_train)\n",
        "X_test_imputed = imputer.transform(X_test)\n",
        "\n",
        "# Handle missing values in y_train and y_test (if any)\n",
        "y_train_imputed = imputer.fit_transform(y_train.values.reshape(-1, 1)).ravel()\n",
        "y_test_imputed = imputer.transform(y_test.values.reshape(-1, 1)).ravel()\n"
      ]
    },
    {
      "cell_type": "markdown",
      "metadata": {
        "id": "tSVAOukOaiyV"
      },
      "source": [
        "## 4. **Modeling**"
      ]
    },
    {
      "cell_type": "markdown",
      "metadata": {
        "id": "u1_3b41gWTIA"
      },
      "source": [
        "### **1. Linear Regression**"
      ]
    },
    {
      "cell_type": "code",
      "execution_count": null,
      "metadata": {
        "colab": {
          "base_uri": "https://localhost:8080/"
        },
        "id": "m9iEPOiUFAjc",
        "outputId": "ed31a8ff-4494-4dbb-ae99-d87732589d04"
      },
      "outputs": [
        {
          "output_type": "stream",
          "name": "stdout",
          "text": [
            "Root Mean Squared Error: 1.7325945373725264\n",
            "R-squared: 0.9926952536604294\n",
            "Mean Absolute Error: 0.2804130101860803\n"
          ]
        }
      ],
      "source": [
        "# Initialize the model\n",
        "model = LinearRegression()\n",
        "\n",
        "# Fit the model to the training data\n",
        "model.fit(X_train_imputed, y_train_imputed)\n",
        "\n",
        "# Make predictions on the test data\n",
        "y_pred = model.predict(X_test_imputed)\n",
        "\n",
        "# Evaluate the model\n",
        "mse = mean_squared_error(y_test_imputed, y_pred)\n",
        "rmse = np.sqrt(mse)\n",
        "r2 = r2_score(y_test_imputed, y_pred)\n",
        "mae = mean_absolute_error(y_test_imputed, y_pred)\n",
        "\n",
        "print(\"Root Mean Squared Error:\", rmse)\n",
        "print(\"R-squared:\", r2)\n",
        "print(\"Mean Absolute Error:\", mae)"
      ]
    },
    {
      "cell_type": "code",
      "source": [
        "# Interpret the results\n",
        "print(\"Model Evaluation Metrics:\")\n",
        "print(\"------------------------\")\n",
        "print(f\"Root Mean Squared Error (RMSE): {rmse:.2f}\")\n",
        "print(f\"R-squared (R2): {r2:.2f}\")\n",
        "print(f\"Mean Absolute Error (MAE): {mae:.2f}\")\n",
        "\n",
        "# Provide interpretations for each metric\n",
        "print(\"\\nInterpretation:\")\n",
        "print(\"------------------------\")\n",
        "print(f\"RMSE: On average, the model's predictions are off by approximately {rmse:.2f} units from the actual reliability scores.\")\n",
        "print(f\"R2: The model explains {r2*100:.2f}% of the variability in the reliability scores.\")\n",
        "print(f\"MAE: The average absolute difference between the model's predictions and the actual reliability scores is {mae:.2f} units.\")\n",
        "\n",
        "# Consider adding context-specific interpretations based on the problem domain\n",
        "# For example:\n",
        "# - If a low RMSE is critical, discuss whether the achieved RMSE is satisfactory.\n",
        "# - If a high R2 is desired, comment on whether the model's explanatory power is sufficient.\n",
        "# - Relate the MAE to the typical range of reliability scores to provide a sense of scale.\n",
        "\n",
        "# Optionally, compare the model's performance to a baseline or other models\n",
        "# For example:\n",
        "# - If a simple average of reliability scores was used as a baseline, compare the model's RMSE to the baseline RMSE.\n",
        "# - If other regression models were tested, compare their performance metrics to the Linear Regression model.\n",
        "\n",
        "# Conclude with a summary of the model's performance and potential next steps\n",
        "print(\"\\nConclusion:\")\n",
        "print(\"------------------------\")\n",
        "print(\"The Linear Regression model provides a reasonable baseline for predicting reliability scores.\")\n",
        "print(\"Further improvements could be explored through feature engineering, hyperparameter tuning, or trying more complex models.\")\n"
      ],
      "metadata": {
        "colab": {
          "base_uri": "https://localhost:8080/"
        },
        "id": "zgEeclJWwF0x",
        "outputId": "2970cae0-a832-48b1-acf5-c66128821e54"
      },
      "execution_count": null,
      "outputs": [
        {
          "output_type": "stream",
          "name": "stdout",
          "text": [
            "Model Evaluation Metrics:\n",
            "------------------------\n",
            "Root Mean Squared Error (RMSE): 1.73\n",
            "R-squared (R2): 0.99\n",
            "Mean Absolute Error (MAE): 0.28\n",
            "\n",
            "Interpretation:\n",
            "------------------------\n",
            "RMSE: On average, the model's predictions are off by approximately 1.73 units from the actual reliability scores.\n",
            "R2: The model explains 99.27% of the variability in the reliability scores.\n",
            "MAE: The average absolute difference between the model's predictions and the actual reliability scores is 0.28 units.\n",
            "\n",
            "Conclusion:\n",
            "------------------------\n",
            "The Linear Regression model provides a reasonable baseline for predicting reliability scores.\n",
            "Further improvements could be explored through feature engineering, hyperparameter tuning, or trying more complex models.\n"
          ]
        }
      ]
    },
    {
      "cell_type": "markdown",
      "metadata": {
        "id": "DZZwmzsbUknw"
      },
      "source": [
        "### **2. Random Forest**"
      ]
    },
    {
      "cell_type": "code",
      "execution_count": null,
      "metadata": {
        "colab": {
          "base_uri": "https://localhost:8080/"
        },
        "id": "PTQQn7ovGLxZ",
        "outputId": "cf87300f-5d5a-44d3-8b71-0ec3360fe580"
      },
      "outputs": [
        {
          "output_type": "stream",
          "name": "stdout",
          "text": [
            "Random Forest - Root Mean Squared Error: 1.417172707720677\n",
            "Random Forest - R-squared: 0.9951128370709403\n",
            "Random Forest - Mean Absolute Error: 0.5137276196294497\n"
          ]
        }
      ],
      "source": [
        "# Initialize the Random Forest model\n",
        "rf_model = RandomForestRegressor(random_state=42)\n",
        "\n",
        "# Fit the model to the training data\n",
        "rf_model.fit(X_train_imputed, y_train_imputed)\n",
        "\n",
        "# Make predictions on the test data\n",
        "y_pred_rf = rf_model.predict(X_test_imputed)\n",
        "\n",
        "# Evaluate the Random Forest model\n",
        "mse_rf = mean_squared_error(y_test_imputed, y_pred_rf)\n",
        "\n",
        "r2_rf = r2_score(y_test_imputed, y_pred_rf)\n",
        "mae_rf = mean_absolute_error(y_test_imputed, y_pred_rf)\n",
        "rmse_rf= np.sqrt(mse_rf)\n",
        "print(\"Random Forest - Root Mean Squared Error:\", rmse_rf)\n",
        "print(\"Random Forest - R-squared:\", r2_rf)\n",
        "print(\"Random Forest - Mean Absolute Error:\", mae_rf)\n"
      ]
    },
    {
      "cell_type": "code",
      "source": [
        "# Interpret the Random Forest results\n",
        "print(\"Random Forest Model Evaluation Metrics:\")\n",
        "print(\"--------------------------------------\")\n",
        "print(f\"Root Mean Squared Error (RMSE): {rmse_rf:.2f}\")\n",
        "print(f\"R-squared (R2): {r2_rf:.2f}\")\n",
        "print(f\"Mean Absolute Error (MAE): {mae_rf:.2f}\")\n",
        "\n",
        "print(\"\\nInterpretation:\")\n",
        "print(\"--------------------------------------\")\n",
        "print(f\"RMSE: On average, the Random Forest model's predictions are off by approximately {rmse_rf:.2f} units from the actual reliability scores.\")\n",
        "print(f\"R2: The Random Forest model explains {r2_rf*100:.2f}% of the variability in the reliability scores.\")\n",
        "print(f\"MAE: The average absolute difference between the Random Forest model's predictions and the actual reliability scores is {mae_rf:.2f} units.\")\n",
        "\n",
        "# Compare with Linear Regression (if applicable)\n",
        "if 'rmse' in locals():\n",
        "    print(\"\\nComparison with Linear Regression:\")\n",
        "    print(\"--------------------------------------\")\n",
        "    if rmse_rf < rmse:\n",
        "        print(\"The Random Forest model outperforms the Linear Regression model in terms of RMSE.\")\n",
        "    elif rmse_rf > rmse:\n",
        "        print(\"The Linear Regression model performs better than the Random Forest model in terms of RMSE.\")\n",
        "    else:\n",
        "        print(\"Both models have similar RMSE performance.\")\n",
        "\n",
        "    if r2_rf > r2:\n",
        "        print(\"The Random Forest model explains more variance (R2) than the Linear Regression model.\")\n",
        "    elif r2_rf < r2:\n",
        "        print(\"The Linear Regression model explains more variance (R2) than the Random Forest model.\")\n",
        "    else:\n",
        "        print(\"Both models have similar R2 values.\")\n",
        "\n",
        "# Conclude with a summary and potential next steps\n",
        "print(\"\\nConclusion:\")\n",
        "print(\"--------------------------------------\")\n",
        "print(\"The Random Forest model demonstrates strong predictive performance for reliability scores.\")\n",
        "print(\"Further optimization could be achieved through hyperparameter tuning or feature engineering.\")\n"
      ],
      "metadata": {
        "colab": {
          "base_uri": "https://localhost:8080/"
        },
        "id": "iGfQhyXbwhc2",
        "outputId": "1eaf627d-0f07-4140-90dd-c17d48e07e42"
      },
      "execution_count": null,
      "outputs": [
        {
          "output_type": "stream",
          "name": "stdout",
          "text": [
            "Random Forest Model Evaluation Metrics:\n",
            "--------------------------------------\n",
            "Root Mean Squared Error (RMSE): 1.42\n",
            "R-squared (R2): 1.00\n",
            "Mean Absolute Error (MAE): 0.51\n",
            "\n",
            "Interpretation:\n",
            "--------------------------------------\n",
            "RMSE: On average, the Random Forest model's predictions are off by approximately 1.42 units from the actual reliability scores.\n",
            "R2: The Random Forest model explains 99.51% of the variability in the reliability scores.\n",
            "MAE: The average absolute difference between the Random Forest model's predictions and the actual reliability scores is 0.51 units.\n",
            "\n",
            "Comparison with Linear Regression:\n",
            "--------------------------------------\n",
            "The Random Forest model outperforms the Linear Regression model in terms of RMSE.\n",
            "The Random Forest model explains more variance (R2) than the Linear Regression model.\n",
            "\n",
            "Conclusion:\n",
            "--------------------------------------\n",
            "The Random Forest model demonstrates strong predictive performance for reliability scores.\n",
            "Further optimization could be achieved through hyperparameter tuning or feature engineering.\n"
          ]
        }
      ]
    },
    {
      "cell_type": "markdown",
      "metadata": {
        "id": "W8OTriobUKLM"
      },
      "source": [
        "### **3. Gradient Boost**"
      ]
    },
    {
      "cell_type": "code",
      "execution_count": null,
      "metadata": {
        "colab": {
          "base_uri": "https://localhost:8080/"
        },
        "id": "4OKKKlm7PPjX",
        "outputId": "f4cb8ce8-3897-4c59-b6ae-858cccaf748e"
      },
      "outputs": [
        {
          "output_type": "stream",
          "name": "stdout",
          "text": [
            "Gradient Boosting - Root Mean Squared Error: 1.3718553271855152\n",
            "Gradient Boosting - R-squared: 0.9954203964222064\n",
            "Gradient Boosting - Mean Absolute Error: 0.5035010774847514\n"
          ]
        }
      ],
      "source": [
        "# Initialize the Gradient Boosting model\n",
        "gb_model = GradientBoostingRegressor(random_state=42)\n",
        "\n",
        "# Fit the model to the training data\n",
        "gb_model.fit(X_train_imputed, y_train_imputed)\n",
        "\n",
        "# Make predictions on the test data\n",
        "y_pred_gb = gb_model.predict(X_test_imputed)\n",
        "\n",
        "# Evaluate the Gradient Boosting model\n",
        "mse_gb = mean_squared_error(y_test_imputed, y_pred_gb)\n",
        "rmse_gb = np.sqrt(mse_gb)\n",
        "r2_gb = r2_score(y_test_imputed, y_pred_gb)\n",
        "mae_gb = mean_absolute_error(y_test_imputed, y_pred_gb)\n",
        "\n",
        "print(\"Gradient Boosting - Root Mean Squared Error:\", rmse_gb)\n",
        "print(\"Gradient Boosting - R-squared:\", r2_gb)\n",
        "print(\"Gradient Boosting - Mean Absolute Error:\", mae_gb)\n"
      ]
    },
    {
      "cell_type": "code",
      "source": [
        "# Interpret the Gradient Boosting results\n",
        "print(\"Gradient Boosting Model Evaluation Metrics:\")\n",
        "print(\"--------------------------------------\")\n",
        "print(f\"Root Mean Squared Error (RMSE): {rmse_gb:.2f}\")\n",
        "print(f\"R-squared (R2): {r2_gb:.2f}\")\n",
        "print(f\"Mean Absolute Error (MAE): {mae_gb:.2f}\")\n",
        "\n",
        "print(\"\\nInterpretation:\")\n",
        "print(\"--------------------------------------\")\n",
        "print(f\"RMSE: On average, the Gradient Boosting model's predictions are off by approximately {rmse_gb:.2f} units from the actual reliability scores.\")\n",
        "print(f\"R2: The Gradient Boosting model explains {r2_gb*100:.2f}% of the variability in the reliability scores.\")\n",
        "print(f\"MAE: The average absolute difference between the Gradient Boosting model's predictions and the actual reliability scores is {mae_gb:.2f} units.\")\n",
        "\n",
        "# Compare with Linear Regression and Random Forest (if applicable)\n",
        "if 'rmse' in locals() and 'rmse_rf' in locals():\n",
        "    print(\"\\nComparison with Other Models:\")\n",
        "    print(\"--------------------------------------\")\n",
        "    if rmse_gb < rmse and rmse_gb < rmse_rf:\n",
        "        print(\"The Gradient Boosting model outperforms both Linear Regression and Random Forest in terms of RMSE.\")\n",
        "    elif rmse_rf < rmse and rmse_rf < rmse_gb:\n",
        "        print(\"The Random Forest model performs best in terms of RMSE.\")\n",
        "    elif rmse < rmse_rf and rmse < rmse_gb:\n",
        "        print(\"The Linear Regression model performs best in terms of RMSE.\")\n",
        "    else:\n",
        "        print(\"The models have comparable RMSE performance.\")\n",
        "\n",
        "    if r2_gb > r2 and r2_gb > r2_rf:\n",
        "        print(\"The Gradient Boosting model explains the most variance (R2).\")\n",
        "    elif r2_rf > r2 and r2_rf > r2_gb:\n",
        "        print(\"The Random Forest model explains the most variance (R2).\")\n",
        "    elif r2 > r2_rf and r2 > r2_gb:\n",
        "        print(\"The Linear Regression model explains the most variance (R2).\")\n",
        "    else:\n",
        "        print(\"The models have similar R2 values.\")\n",
        "\n",
        "# Conclude with a summary and potential next steps\n",
        "print(\"\\nConclusion:\")\n",
        "print(\"--------------------------------------\")\n",
        "print(\"The Gradient Boosting model provides competitive predictive performance for reliability scores.\")\n",
        "print(\"Fine-tuning hyperparameters or exploring feature interactions could further enhance its accuracy.\")\n"
      ],
      "metadata": {
        "colab": {
          "base_uri": "https://localhost:8080/"
        },
        "id": "W3NlcOkHw7kO",
        "outputId": "3b3848cd-9a5b-46e8-b836-9834ade82d8c"
      },
      "execution_count": null,
      "outputs": [
        {
          "output_type": "stream",
          "name": "stdout",
          "text": [
            "Gradient Boosting Model Evaluation Metrics:\n",
            "--------------------------------------\n",
            "Root Mean Squared Error (RMSE): 1.37\n",
            "R-squared (R2): 1.00\n",
            "Mean Absolute Error (MAE): 0.50\n",
            "\n",
            "Interpretation:\n",
            "--------------------------------------\n",
            "RMSE: On average, the Gradient Boosting model's predictions are off by approximately 1.37 units from the actual reliability scores.\n",
            "R2: The Gradient Boosting model explains 99.54% of the variability in the reliability scores.\n",
            "MAE: The average absolute difference between the Gradient Boosting model's predictions and the actual reliability scores is 0.50 units.\n",
            "\n",
            "Comparison with Other Models:\n",
            "--------------------------------------\n",
            "The Gradient Boosting model outperforms both Linear Regression and Random Forest in terms of RMSE.\n",
            "The Gradient Boosting model explains the most variance (R2).\n",
            "\n",
            "Conclusion:\n",
            "--------------------------------------\n",
            "The Gradient Boosting model provides competitive predictive performance for reliability scores.\n",
            "Fine-tuning hyperparameters or exploring feature interactions could further enhance its accuracy.\n"
          ]
        }
      ]
    },
    {
      "cell_type": "markdown",
      "metadata": {
        "id": "pv4f0kr4Tvr8"
      },
      "source": [
        "### **4. XG Boost Model**"
      ]
    },
    {
      "cell_type": "code",
      "execution_count": null,
      "metadata": {
        "colab": {
          "base_uri": "https://localhost:8080/"
        },
        "id": "JW8CIHwCPci1",
        "outputId": "afadecb5-b5a9-46a3-9725-e0ee726d9948"
      },
      "outputs": [
        {
          "output_type": "stream",
          "name": "stdout",
          "text": [
            "XGBoost - Root Mean Squared Error: 1.3529684868184493\n",
            "XGBoost - R-squared: 0.9955456265990132\n",
            "XGBoost - Mean Absolute Error: 0.4755915184123422\n"
          ]
        }
      ],
      "source": [
        "# Initialize the XGBoost model\n",
        "xgb_model = xgb.XGBRegressor(random_state=42)\n",
        "\n",
        "# Fit the model to the training data\n",
        "xgb_model.fit(X_train_imputed, y_train_imputed)\n",
        "\n",
        "# Make predictions on the test data\n",
        "y_pred_xgb = xgb_model.predict(X_test_imputed)\n",
        "\n",
        "# Evaluate the XGBoost model\n",
        "mse_xgb = mean_squared_error(y_test_imputed, y_pred_xgb)\n",
        "rmse_xgb = np.sqrt(mse_xgb)\n",
        "r2_xgb = r2_score(y_test_imputed, y_pred_xgb)\n",
        "mae_xgb = mean_absolute_error(y_test_imputed, y_pred_xgb)\n",
        "\n",
        "print(\"XGBoost - Root Mean Squared Error:\", rmse_xgb)\n",
        "print(\"XGBoost - R-squared:\", r2_xgb)\n",
        "print(\"XGBoost - Mean Absolute Error:\", mae_xgb)\n"
      ]
    },
    {
      "cell_type": "code",
      "source": [
        "# Interpret the XGBoost results\n",
        "print(\"XGBoost Model Evaluation Metrics:\")\n",
        "print(\"--------------------------------------\")\n",
        "print(f\"Root Mean Squared Error (RMSE): {rmse_xgb:.2f}\")\n",
        "print(f\"R-squared (R2): {r2_xgb:.2f}\")\n",
        "print(f\"Mean Absolute Error (MAE): {mae_xgb:.2f}\")\n",
        "\n",
        "print(\"\\nInterpretation:\")\n",
        "print(\"--------------------------------------\")\n",
        "print(f\"RMSE: On average, the XGBoost model's predictions are off by approximately {rmse_xgb:.2f} units from the actual reliability scores.\")\n",
        "print(f\"R2: The XGBoost model explains {r2_xgb*100:.2f}% of the variability in the reliability scores.\")\n",
        "print(f\"MAE: The average absolute difference between the XGBoost model's predictions and the actual reliability scores is {mae_xgb:.2f} units.\")\n",
        "\n",
        "# Compare with previous models (if applicable)\n",
        "if 'rmse' in locals() and 'rmse_rf' in locals() and 'rmse_gb' in locals():\n",
        "    print(\"\\nComparison with Other Models:\")\n",
        "    print(\"--------------------------------------\")\n",
        "    if rmse_xgb < rmse and rmse_xgb < rmse_rf and rmse_xgb < rmse_gb:\n",
        "        print(\"The XGBoost model outperforms Linear Regression, Random Forest, and Gradient Boosting in terms of RMSE.\")\n",
        "    elif rmse_rf < rmse and rmse_rf < rmse_gb and rmse_rf < rmse_xgb:\n",
        "        print(\"The Random Forest model performs best in terms of RMSE.\")\n",
        "    elif rmse_gb < rmse and rmse_gb < rmse_rf and rmse_gb < rmse_xgb:\n",
        "        print(\"The Gradient Boosting model performs best in terms of RMSE.\")\n",
        "    elif rmse < rmse_rf and rmse < rmse_gb and rmse < rmse_xgb:\n",
        "        print(\"The Linear Regression model performs best in terms of RMSE.\")\n",
        "    else:\n",
        "        print(\"The models have comparable RMSE performance.\")\n",
        "\n",
        "    if r2_xgb > r2 and r2_xgb > r2_rf and r2_xgb > r2_gb:\n",
        "        print(\"The XGBoost model explains the most variance (R2).\")\n",
        "    elif r2_rf > r2 and r2_rf > r2_gb and r2_rf > r2_xgb:\n",
        "        print(\"The Random Forest model explains the most variance (R2).\")\n",
        "    elif r2_gb > r2 and r2_gb > r2_rf and r2_gb > r2_xgb:\n",
        "        print(\"The Gradient Boosting model explains the most variance (R2).\")\n",
        "    elif r2 > r2_rf and r2 > r2_gb and r2 > r2_xgb:\n",
        "        print(\"The Linear Regression model explains the most variance (R2).\")\n",
        "    else:\n",
        "        print(\"The models have similar R2 values.\")\n",
        "\n",
        "# Conclude with a summary and potential next steps\n",
        "print(\"\\nConclusion:\")\n",
        "print(\"--------------------------------------\")\n",
        "print(\"The XGBoost model demonstrates strong predictive capabilities for reliability scores.\")\n",
        "print(\"Further refinement could involve hyperparameter optimization or exploring feature interactions.\")\n"
      ],
      "metadata": {
        "colab": {
          "base_uri": "https://localhost:8080/"
        },
        "id": "6dkQya5ExVoX",
        "outputId": "29ad377e-823b-480b-d5be-ef8a5bff145b"
      },
      "execution_count": null,
      "outputs": [
        {
          "output_type": "stream",
          "name": "stdout",
          "text": [
            "XGBoost Model Evaluation Metrics:\n",
            "--------------------------------------\n",
            "Root Mean Squared Error (RMSE): 1.35\n",
            "R-squared (R2): 1.00\n",
            "Mean Absolute Error (MAE): 0.48\n",
            "\n",
            "Interpretation:\n",
            "--------------------------------------\n",
            "RMSE: On average, the XGBoost model's predictions are off by approximately 1.35 units from the actual reliability scores.\n",
            "R2: The XGBoost model explains 99.55% of the variability in the reliability scores.\n",
            "MAE: The average absolute difference between the XGBoost model's predictions and the actual reliability scores is 0.48 units.\n",
            "\n",
            "Comparison with Other Models:\n",
            "--------------------------------------\n",
            "The XGBoost model outperforms Linear Regression, Random Forest, and Gradient Boosting in terms of RMSE.\n",
            "The XGBoost model explains the most variance (R2).\n",
            "\n",
            "Conclusion:\n",
            "--------------------------------------\n",
            "The XGBoost model demonstrates strong predictive capabilities for reliability scores.\n",
            "Further refinement could involve hyperparameter optimization or exploring feature interactions.\n"
          ]
        }
      ]
    },
    {
      "cell_type": "markdown",
      "source": [
        "### **Handling Overfitting**"
      ],
      "metadata": {
        "id": "Ef20cZxSx9ti"
      }
    },
    {
      "cell_type": "markdown",
      "source": [
        "#### **K-Fold Cross-Validation**"
      ],
      "metadata": {
        "id": "1vyXjt-e0-Hd"
      }
    },
    {
      "cell_type": "code",
      "source": [
        "# Performing k-fold cross-validation\n",
        "\n",
        "# Choose the number of folds (k)\n",
        "k = 5  # You can adjust this value\n",
        "\n",
        "# Linear Regression\n",
        "cv_scores_lr = cross_val_score(model, X_train_imputed, y_train_imputed, cv=k, scoring='neg_mean_squared_error')\n",
        "rmse_scores_lr = np.sqrt(-cv_scores_lr)\n",
        "print(\"Linear Regression - Cross-Validation RMSE Scores:\", rmse_scores_lr)\n",
        "print(\"Linear Regression - Mean RMSE:\", rmse_scores_lr.mean())\n",
        "\n",
        "# Random Forest\n",
        "cv_scores_rf = cross_val_score(rf_model, X_train_imputed, y_train_imputed, cv=k, scoring='neg_mean_squared_error')\n",
        "rmse_scores_rf = np.sqrt(-cv_scores_rf)\n",
        "print(\"\\nRandom Forest - Cross-Validation RMSE Scores:\", rmse_scores_rf)\n",
        "print(\"Random Forest - Mean RMSE:\", rmse_scores_rf.mean())\n",
        "\n",
        "# Gradient Boosting\n",
        "cv_scores_gb = cross_val_score(gb_model, X_train_imputed, y_train_imputed, cv=k, scoring='neg_mean_squared_error')\n",
        "rmse_scores_gb = np.sqrt(-cv_scores_gb)\n",
        "print(\"\\nGradient Boosting - Cross-Validation RMSE Scores:\", rmse_scores_gb)\n",
        "print(\"Gradient Boosting - Mean RMSE:\", rmse_scores_gb.mean())\n",
        "\n",
        "# XGBoost\n",
        "cv_scores_xgb = cross_val_score(xgb_model, X_train_imputed, y_train_imputed, cv=k, scoring='neg_mean_squared_error')\n",
        "rmse_scores_xgb = np.sqrt(-cv_scores_xgb)\n",
        "print(\"\\nXGBoost - Cross-Validation RMSE Scores:\", rmse_scores_xgb)\n",
        "print(\"XGBoost - Mean RMSE:\", rmse_scores_xgb.mean())\n"
      ],
      "metadata": {
        "colab": {
          "base_uri": "https://localhost:8080/"
        },
        "id": "_KkDoWL0w14X",
        "outputId": "10f94c18-989f-4a7b-9bba-d18d86951044"
      },
      "execution_count": null,
      "outputs": [
        {
          "output_type": "stream",
          "name": "stdout",
          "text": [
            "Linear Regression - Cross-Validation RMSE Scores: [0.516497   0.30777588 0.35240481 0.30614517 0.34912697]\n",
            "Linear Regression - Mean RMSE: 0.3663899656230815\n",
            "\n",
            "Random Forest - Cross-Validation RMSE Scores: [0.97711796 0.88159146 0.90850676 1.05256137 1.06137788]\n",
            "Random Forest - Mean RMSE: 0.9762310885988269\n",
            "\n",
            "Gradient Boosting - Cross-Validation RMSE Scores: [0.79510241 0.7217461  0.78116942 0.92539211 0.8079686 ]\n",
            "Gradient Boosting - Mean RMSE: 0.806275729623993\n",
            "\n",
            "XGBoost - Cross-Validation RMSE Scores: [1.43670589 0.73544256 0.7983125  1.16779587 0.90359225]\n",
            "XGBoost - Mean RMSE: 1.0083698135393628\n"
          ]
        }
      ]
    },
    {
      "cell_type": "markdown",
      "source": [
        "#### **Elastic Net**"
      ],
      "metadata": {
        "id": "2kw0m1wU1HEb"
      }
    },
    {
      "cell_type": "code",
      "source": [
        "# Initialize the ElasticNet model\n",
        "elastic_net_model = ElasticNet(random_state=42)  # You can adjust hyperparameters here\n",
        "\n",
        "# Fit the model to the training data\n",
        "elastic_net_model.fit(X_train_imputed, y_train_imputed)\n",
        "\n",
        "# Make predictions on the test data\n",
        "y_pred_en = elastic_net_model.predict(X_test_imputed)\n",
        "\n",
        "# Evaluate the ElasticNet model\n",
        "mse_en = mean_squared_error(y_test_imputed, y_pred_en)\n",
        "rmse_en = np.sqrt(mse_en)\n",
        "r2_en = r2_score(y_test_imputed, y_pred_en)\n",
        "mae_en = mean_absolute_error(y_test_imputed, y_pred_en)\n",
        "\n",
        "print(\"ElasticNet - Root Mean Squared Error:\", rmse_en)\n",
        "print(\"ElasticNet - R-squared:\", r2_en)\n",
        "print(\"ElasticNet - Mean Absolute Error:\", mae_en)\n"
      ],
      "metadata": {
        "colab": {
          "base_uri": "https://localhost:8080/"
        },
        "id": "38x5dI7vxXF5",
        "outputId": "0ddc7232-aad5-46a4-dc37-8ade35ca25f8"
      },
      "execution_count": null,
      "outputs": [
        {
          "output_type": "stream",
          "name": "stdout",
          "text": [
            "ElasticNet - Root Mean Squared Error: 7.343995266939545\n",
            "ElasticNet - R-squared: 0.8687570346348801\n",
            "ElasticNet - Mean Absolute Error: 5.605689927194578\n"
          ]
        }
      ]
    },
    {
      "cell_type": "markdown",
      "source": [
        "### **Cross Validation of our Models**"
      ],
      "metadata": {
        "id": "ez_0rJkE04tq"
      }
    },
    {
      "cell_type": "code",
      "source": [
        "# Performing cross validation of our models\n",
        "\n",
        "# Linear Regression\n",
        "cv_scores_lr = cross_val_score(model, X_train_imputed, y_train_imputed, cv=5, scoring='neg_mean_squared_error')\n",
        "rmse_scores_lr = np.sqrt(-cv_scores_lr)\n",
        "print(\"Linear Regression - Cross-Validation RMSE Scores:\", rmse_scores_lr)\n",
        "print(\"Linear Regression - Mean RMSE:\", rmse_scores_lr.mean())\n",
        "\n",
        "# Random Forest\n",
        "cv_scores_rf = cross_val_score(rf_model, X_train_imputed, y_train_imputed, cv=5, scoring='neg_mean_squared_error')\n",
        "rmse_scores_rf = np.sqrt(-cv_scores_rf)\n",
        "print(\"\\nRandom Forest - Cross-Validation RMSE Scores:\", rmse_scores_rf)\n",
        "print(\"Random Forest - Mean RMSE:\", rmse_scores_rf.mean())\n",
        "\n",
        "# Gradient Boosting\n",
        "cv_scores_gb = cross_val_score(gb_model, X_train_imputed, y_train_imputed, cv=5, scoring='neg_mean_squared_error')\n",
        "rmse_scores_gb = np.sqrt(-cv_scores_gb)\n",
        "print(\"\\nGradient Boosting - Cross-Validation RMSE Scores:\", rmse_scores_gb)\n",
        "print(\"Gradient Boosting - Mean RMSE:\", rmse_scores_gb.mean())\n",
        "\n",
        "# XGBoost\n",
        "cv_scores_xgb = cross_val_score(xgb_model, X_train_imputed, y_train_imputed, cv=5, scoring='neg_mean_squared_error')\n",
        "rmse_scores_xgb = np.sqrt(-cv_scores_xgb)\n",
        "print(\"\\nXGBoost - Cross-Validation RMSE Scores:\", rmse_scores_xgb)\n",
        "print(\"XGBoost - Mean RMSE:\", rmse_scores_xgb.mean())\n",
        "\n",
        "# ElasticNet\n",
        "cv_scores_en = cross_val_score(elastic_net_model, X_train_imputed, y_train_imputed, cv=5, scoring='neg_mean_squared_error')\n",
        "rmse_scores_en = np.sqrt(-cv_scores_en)\n",
        "print(\"\\nElasticNet - Cross-Validation RMSE Scores:\", rmse_scores_en)\n",
        "print(\"ElasticNet - Mean RMSE:\", rmse_scores_en.mean())\n"
      ],
      "metadata": {
        "colab": {
          "base_uri": "https://localhost:8080/"
        },
        "id": "XeVoWNFuxsLa",
        "outputId": "08209c34-e257-4519-fbcf-834fc1f129aa"
      },
      "execution_count": null,
      "outputs": [
        {
          "output_type": "stream",
          "name": "stdout",
          "text": [
            "Linear Regression - Cross-Validation RMSE Scores: [0.516497   0.30777588 0.35240481 0.30614517 0.34912697]\n",
            "Linear Regression - Mean RMSE: 0.3663899656230815\n",
            "\n",
            "Random Forest - Cross-Validation RMSE Scores: [0.97711796 0.88159146 0.90850676 1.05256137 1.06137788]\n",
            "Random Forest - Mean RMSE: 0.9762310885988269\n",
            "\n",
            "Gradient Boosting - Cross-Validation RMSE Scores: [0.79510241 0.7217461  0.78116942 0.92539211 0.8079686 ]\n",
            "Gradient Boosting - Mean RMSE: 0.806275729623993\n",
            "\n",
            "XGBoost - Cross-Validation RMSE Scores: [1.43670589 0.73544256 0.7983125  1.16779587 0.90359225]\n",
            "XGBoost - Mean RMSE: 1.0083698135393628\n",
            "\n",
            "ElasticNet - Cross-Validation RMSE Scores: [6.75424168 7.37785123 5.963458   7.96810082 6.60301808]\n",
            "ElasticNet - Mean RMSE: 6.933333960423738\n"
          ]
        }
      ]
    },
    {
      "cell_type": "markdown",
      "source": [
        "### **Ensemble Stacking**"
      ],
      "metadata": {
        "id": "CUpPFjwfuEUx"
      }
    },
    {
      "cell_type": "code",
      "source": [
        "# Trying ensemble stacking of our models\n",
        "\n",
        "# Define the base models\n",
        "base_models = [\n",
        "    ('linear regression', LinearRegression()),\n",
        "    ('random forest', RandomForestRegressor(random_state=42)),\n",
        "    ('gradient boosting', GradientBoostingRegressor(random_state=42)),\n",
        "    ('xg boost', xgb.XGBRegressor(random_state=42)),\n",
        "    ('elastic net', ElasticNet(random_state=42)),\n",
        "]\n",
        "\n",
        "# Define the meta-model (final model that combines predictions from base models)\n",
        "meta_model = LinearRegression()\n",
        "\n",
        "# Create the stacking regressor\n",
        "stacking_regressor = StackingRegressor(\n",
        "    estimators=base_models,\n",
        "    final_estimator=meta_model,\n",
        "    cv=5  # Use 5-fold cross-validation for stacking\n",
        ")\n",
        "\n",
        "# Fit the stacking regressor to the training data\n",
        "stacking_regressor.fit(X_train_imputed, y_train_imputed)\n",
        "\n",
        "# Make predictions on the test data\n",
        "y_pred_stacking = stacking_regressor.predict(X_test_imputed)\n",
        "\n",
        "# Evaluate the stacking model\n",
        "mse_stacking = mean_squared_error(y_test_imputed, y_pred_stacking)\n",
        "rmse_stacking = np.sqrt(mse_stacking)\n",
        "r2_stacking = r2_score(y_test_imputed, y_pred_stacking)\n",
        "mae_stacking = mean_absolute_error(y_test_imputed, y_pred_stacking)\n",
        "\n",
        "print(\"Stacking Regressor - Root Mean Squared Error:\", rmse_stacking)\n",
        "print(\"Stacking Regressor - R-squared:\", r2_stacking)\n",
        "print(\"Stacking Regressor - Mean Absolute Error:\", mae_stacking)\n",
        "\n",
        "# Compare with previous models\n",
        "print(\"\\nComparison with Other Models:\")\n",
        "print(\"--------------------------------------\")\n",
        "\n",
        "# Evaluate the individual base models\n",
        "for name, model in base_models:\n",
        "    model.fit(X_train_imputed, y_train_imputed)\n",
        "    y_pred = model.predict(X_test_imputed)\n",
        "    mse = mean_squared_error(y_test_imputed, y_pred)\n",
        "    rmse = np.sqrt(mse)\n",
        "    r2 = r2_score(y_test_imputed, y_pred)\n",
        "    mae = mean_absolute_error(y_test_imputed, y_pred)\n",
        "    print(f\"{name.upper()} - Root Mean Squared Error: {rmse}\")\n",
        "    print(f\"{name.upper()} - R-squared: {r2}\")\n",
        "    print(f\"{name.upper()} - Mean Absolute Error: {mae}\")\n",
        "\n",
        "# Perform cross-validation for the stacking model\n",
        "cv_scores_stacking = cross_val_score(stacking_regressor, X_train_imputed, y_train_imputed, cv=5, scoring='neg_mean_squared_error')\n",
        "rmse_scores_stacking = np.sqrt(-cv_scores_stacking)\n",
        "print(\"\\nStacking Regressor - Cross-Validation RMSE Scores:\", rmse_scores_stacking)\n",
        "print(\"Stacking Regressor - Mean RMSE:\", rmse_scores_stacking.mean())\n",
        "\n",
        "# Update the model results dictionary and DataFrame\n",
        "model_results = {}\n",
        "for name, model in base_models + [('Stacking Regressor', stacking_regressor)]:\n",
        "    model.fit(X_train_imputed, y_train_imputed)\n",
        "    y_pred = model.predict(X_test_imputed)\n",
        "    mse = mean_squared_error(y_test_imputed, y_pred)\n",
        "    rmse = np.sqrt(mse)\n",
        "    r2 = r2_score(y_test_imputed, y_pred)\n",
        "    mae = mean_absolute_error(y_test_imputed, y_pred)\n",
        "    model_results[name.upper()] = {'RMSE': rmse, 'R-squared': r2, 'MAE': mae}\n",
        "\n",
        "results_df = pd.DataFrame.from_dict(model_results, orient='index')\n",
        "\n",
        "# Print the updated results DataFrame\n",
        "print(results_df)\n",
        "\n",
        "# Identify the best model based on RMSE\n",
        "best_model = results_df['RMSE'].idxmin()\n",
        "print(f\"The best model based on RMSE is: {best_model}\")"
      ],
      "metadata": {
        "colab": {
          "base_uri": "https://localhost:8080/"
        },
        "id": "eBoea_rHz_kz",
        "outputId": "13e8f967-03ac-49c9-f4da-a7a8ba0995f4"
      },
      "execution_count": null,
      "outputs": [
        {
          "output_type": "stream",
          "name": "stdout",
          "text": [
            "Stacking Regressor - Root Mean Squared Error: 1.6566119229936827\n",
            "Stacking Regressor - R-squared: 0.9933219014555844\n",
            "Stacking Regressor - Mean Absolute Error: 0.2679492376756\n",
            "\n",
            "Comparison with Other Models:\n",
            "--------------------------------------\n",
            "LINEAR REGRESSION - Root Mean Squared Error: 1.7325945373725264\n",
            "LINEAR REGRESSION - R-squared: 0.9926952536604294\n",
            "LINEAR REGRESSION - Mean Absolute Error: 0.2804130101860803\n",
            "RANDOM FOREST - Root Mean Squared Error: 1.417172707720677\n",
            "RANDOM FOREST - R-squared: 0.9951128370709403\n",
            "RANDOM FOREST - Mean Absolute Error: 0.5137276196294497\n",
            "GRADIENT BOOSTING - Root Mean Squared Error: 1.3718553271855152\n",
            "GRADIENT BOOSTING - R-squared: 0.9954203964222064\n",
            "GRADIENT BOOSTING - Mean Absolute Error: 0.5035010774847514\n",
            "XG BOOST - Root Mean Squared Error: 1.3529684868184493\n",
            "XG BOOST - R-squared: 0.9955456265990132\n",
            "XG BOOST - Mean Absolute Error: 0.4755915184123422\n",
            "ELASTIC NET - Root Mean Squared Error: 7.343995266939545\n",
            "ELASTIC NET - R-squared: 0.8687570346348801\n",
            "ELASTIC NET - Mean Absolute Error: 5.605689927194578\n",
            "\n",
            "Stacking Regressor - Cross-Validation RMSE Scores: [0.48310828 0.31288319 0.31763185 0.32353407 0.37458919]\n",
            "Stacking Regressor - Mean RMSE: 0.36234931555510397\n",
            "                        RMSE  R-squared       MAE\n",
            "LINEAR REGRESSION   1.732595   0.992695  0.280413\n",
            "RANDOM FOREST       1.417173   0.995113  0.513728\n",
            "GRADIENT BOOSTING   1.371855   0.995420  0.503501\n",
            "XG BOOST            1.352968   0.995546  0.475592\n",
            "ELASTIC NET         7.343995   0.868757  5.605690\n",
            "STACKING REGRESSOR  1.656612   0.993322  0.267949\n",
            "The best model based on RMSE is: XG BOOST\n"
          ]
        }
      ]
    },
    {
      "cell_type": "markdown",
      "source": [
        "### **Interpreting our results**"
      ],
      "metadata": {
        "id": "4r1ygB2-zx59"
      }
    },
    {
      "cell_type": "code",
      "source": [
        "# Convert the dictionary to a Pandas DataFrame for easy comparison\n",
        "results_df = pd.DataFrame.from_dict(model_results, orient='index')\n",
        "\n",
        "# Print the results DataFrame\n",
        "print(results_df)\n",
        "\n",
        "# Visualize the results (optional)\n",
        "results_df.plot(kind='bar', figsize=(10, 6))\n",
        "plt.title('Model Comparison')\n",
        "plt.ylabel('Metric Value')\n",
        "plt.xticks(rotation=45)\n",
        "plt.tight_layout()\n",
        "plt.show()\n"
      ],
      "metadata": {
        "colab": {
          "base_uri": "https://localhost:8080/",
          "height": 729
        },
        "id": "_P8cxVKwxmJ2",
        "outputId": "53dd43ff-ed31-4e3f-8fa4-0ad41434d242"
      },
      "execution_count": null,
      "outputs": [
        {
          "output_type": "stream",
          "name": "stdout",
          "text": [
            "                        RMSE  R-squared       MAE\n",
            "LINEAR REGRESSION   1.732595   0.992695  0.280413\n",
            "RANDOM FOREST       1.417173   0.995113  0.513728\n",
            "GRADIENT BOOSTING   1.371855   0.995420  0.503501\n",
            "XG BOOST            1.352968   0.995546  0.475592\n",
            "ELASTIC NET         7.343995   0.868757  5.605690\n",
            "STACKING REGRESSOR  1.656612   0.993322  0.267949\n"
          ]
        },
        {
          "output_type": "display_data",
          "data": {
            "text/plain": [
              "<Figure size 1000x600 with 1 Axes>"
            ],
            "image/png": "[encoded data removed]"
          },
          "metadata": {}
        }
      ]
    },
    {
      "cell_type": "code",
      "source": [
        "# Identify the best model based on a chosen metric (e.g., RMSE)\n",
        "best_model = results_df['RMSE'].idxmin()\n",
        "print(f\"The best model based on RMSE is: {best_model}\")"
      ],
      "metadata": {
        "colab": {
          "base_uri": "https://localhost:8080/"
        },
        "id": "ChgG3UUSx6y3",
        "outputId": "80218e70-14d5-4a19-b47f-26f3949c9d11"
      },
      "execution_count": null,
      "outputs": [
        {
          "output_type": "stream",
          "name": "stdout",
          "text": [
            "The best model based on RMSE is: XG BOOST\n"
          ]
        }
      ]
    },
    {
      "cell_type": "code",
      "source": [
        "# Interpreting the results of k-fold cross validation and elastic net.\n",
        "\n",
        "# Checking whether they had an effect on handling overfitting\n",
        "\n",
        "# Interpret the results of k-fold cross-validation\n",
        "print(\"\\nInterpretation of k-fold Cross-Validation:\")\n",
        "print(\"--------------------------------------\")\n",
        "print(\"Cross-validation provides a more robust estimate of model performance by evaluating it on multiple different splits of the data.\")\n",
        "print(\"The mean RMSE scores from cross-validation give a better indication of how the model is likely to perform on unseen data.\")\n",
        "\n",
        "# Compare cross-validation RMSE to the original RMSE (if available)\n",
        "if 'rmse' in locals():\n",
        "    print(\"\\nComparison of Cross-Validation RMSE to Original RMSE:\")\n",
        "    print(\"------------------------------------------------------\")\n",
        "    for model_name, rmse_scores in [(\"Linear Regression\", rmse_scores_lr),\n",
        "                                     (\"Random Forest\", rmse_scores_rf),\n",
        "                                     (\"Gradient Boosting\", rmse_scores_gb),\n",
        "                                     (\"XGBoost\", rmse_scores_xgb)]:\n",
        "        print(f\"{model_name}:\")\n",
        "        print(f\"  Original RMSE: {rmse}\")\n",
        "        print(f\"  Mean CV RMSE: {rmse_scores.mean()}\")\n",
        "        if rmse_scores.mean() > rmse:\n",
        "            print(\"  The cross-validation RMSE is higher, suggesting potential overfitting in the original model.\")\n",
        "        elif rmse_scores.mean() < rmse:\n",
        "            print(\"  The cross-validation RMSE is lower, indicating the original model might have been slightly underfit.\")\n",
        "        else:\n",
        "            print(\"  The cross-validation RMSE is similar, suggesting the original model generalizes well.\")\n",
        "\n",
        "# Interpret the results of ElasticNet\n",
        "print(\"\\nInterpretation of ElasticNet:\")\n",
        "print(\"--------------------------------------\")\n",
        "print(\"ElasticNet combines L1 (Lasso) and L2 (Ridge) regularization to prevent overfitting and improve generalization.\")\n",
        "print(f\"The ElasticNet model achieved an RMSE of {rmse_en:.2f}, R-squared of {r2_en:.2f}, and MAE of {mae_en:.2f}.\")\n",
        "\n",
        "# Compare ElasticNet to other models (if applicable)\n",
        "if 'rmse' in locals() and 'rmse_rf' in locals() and 'rmse_gb' in locals() and 'rmse_xgb' in locals():\n",
        "    print(\"\\nComparison of ElasticNet to Other Models:\")\n",
        "    print(\"--------------------------------------\")\n",
        "    if rmse_en < rmse and rmse_en < rmse_rf and rmse_en < rmse_gb and rmse_en < rmse_xgb:\n",
        "        print(\"ElasticNet outperforms all other models in terms of RMSE.\")\n",
        "    else:\n",
        "        print(\"ElasticNet does not achieve the lowest RMSE compared to other models.\")\n",
        "\n",
        "# State whether k-fold cross-validation and ElasticNet had an effect on handling overfitting\n",
        "print(\"\\nEffect on Handling Overfitting:\")\n",
        "print(\"--------------------------------------\")\n",
        "print(\"K-fold cross-validation helps assess the risk of overfitting by evaluating the model on multiple data splits.\")\n",
        "print(\"If the cross-validation RMSE is significantly higher than the original RMSE, it indicates overfitting.\")\n",
        "print(\"ElasticNet, with its regularization, explicitly aims to reduce overfitting by shrinking model coefficients.\")\n",
        "print(\"Whether these techniques effectively handled overfitting depends on the specific results and comparisons made above.\")\n",
        "\n",
        "# Provide recommendations based on the interpretation\n",
        "print(\"\\nRecommendations:\")\n",
        "print(\"--------------------------------------\")\n",
        "if any(rmse_scores.mean() > rmse for rmse_scores in [rmse_scores_lr, rmse_scores_rf, rmse_scores_gb, rmse_scores_xgb]):\n",
        "    print(\"Consider using regularization techniques (like ElasticNet) or hyperparameter tuning to mitigate overfitting.\")\n",
        "if rmse_en is not None and rmse_en < min([rmse, rmse_rf, rmse_gb, rmse_xgb]):\n",
        "    print(\"ElasticNet shows promise in reducing overfitting and improving generalization.\")\n"
      ],
      "metadata": {
        "colab": {
          "base_uri": "https://localhost:8080/"
        },
        "id": "BWQAkqMQyXmj",
        "outputId": "73f8bf8c-e344-468d-a445-0a10514de833"
      },
      "execution_count": null,
      "outputs": [
        {
          "output_type": "stream",
          "name": "stdout",
          "text": [
            "\n",
            "Interpretation of k-fold Cross-Validation:\n",
            "--------------------------------------\n",
            "Cross-validation provides a more robust estimate of model performance by evaluating it on multiple different splits of the data.\n",
            "The mean RMSE scores from cross-validation give a better indication of how the model is likely to perform on unseen data.\n",
            "\n",
            "Comparison of Cross-Validation RMSE to Original RMSE:\n",
            "------------------------------------------------------\n",
            "Linear Regression:\n",
            "  Original RMSE: 1.6566119229936827\n",
            "  Mean CV RMSE: 0.3663899656230815\n",
            "  The cross-validation RMSE is lower, indicating the original model might have been slightly underfit.\n",
            "Random Forest:\n",
            "  Original RMSE: 1.6566119229936827\n",
            "  Mean CV RMSE: 0.9762310885988269\n",
            "  The cross-validation RMSE is lower, indicating the original model might have been slightly underfit.\n",
            "Gradient Boosting:\n",
            "  Original RMSE: 1.6566119229936827\n",
            "  Mean CV RMSE: 0.806275729623993\n",
            "  The cross-validation RMSE is lower, indicating the original model might have been slightly underfit.\n",
            "XGBoost:\n",
            "  Original RMSE: 1.6566119229936827\n",
            "  Mean CV RMSE: 1.0083698135393628\n",
            "  The cross-validation RMSE is lower, indicating the original model might have been slightly underfit.\n",
            "\n",
            "Interpretation of ElasticNet:\n",
            "--------------------------------------\n",
            "ElasticNet combines L1 (Lasso) and L2 (Ridge) regularization to prevent overfitting and improve generalization.\n",
            "The ElasticNet model achieved an RMSE of 7.34, R-squared of 0.87, and MAE of 5.61.\n",
            "\n",
            "Comparison of ElasticNet to Other Models:\n",
            "--------------------------------------\n",
            "ElasticNet does not achieve the lowest RMSE compared to other models.\n",
            "\n",
            "Effect on Handling Overfitting:\n",
            "--------------------------------------\n",
            "K-fold cross-validation helps assess the risk of overfitting by evaluating the model on multiple data splits.\n",
            "If the cross-validation RMSE is significantly higher than the original RMSE, it indicates overfitting.\n",
            "ElasticNet, with its regularization, explicitly aims to reduce overfitting by shrinking model coefficients.\n",
            "Whether these techniques effectively handled overfitting depends on the specific results and comparisons made above.\n",
            "\n",
            "Recommendations:\n",
            "--------------------------------------\n"
          ]
        }
      ]
    },
    {
      "cell_type": "code",
      "source": [
        "# Creating a code to interpret our results and output as a markdown code\n",
        "\n",
        "# Create a markdown string to summarize the results\n",
        "markdown_model_score_summary = f\"\"\"\n",
        "## Model Comparison\n",
        "\n",
        "| Model | RMSE | R-squared | MAE | Mean CV RMSE |\n",
        "|---|---|---|---|---|\n",
        "| Linear Regression | {rmse:.2f} | {r2:.2f} | {mae:.2f} | {rmse_scores_lr.mean():.2f} |\n",
        "| Random Forest | {rmse_rf:.2f} | {r2_rf:.2f} | {mae_rf:.2f} | {rmse_scores_rf.mean():.2f} |\n",
        "| Gradient Boosting | {rmse_gb:.2f} | {r2_gb:.2f} | {mae_gb:.2f} | {rmse_scores_gb.mean():.2f} |\n",
        "| XGBoost | {rmse_xgb:.2f} | {r2_xgb:.2f} | {mae_xgb:.2f} | {rmse_scores_xgb.mean():.2f} |\n",
        "| ElasticNet | {rmse_en:.2f} | {r2_en:.2f} | {mae_en:.2f} | {rmse_scores_en.mean():.2f} |\n",
        "| Stacking Regressor | {rmse_stacking:.2f} | {r2_stacking:.2f} | {mae_stacking:.2f} | {rmse_scores_stacking.mean():.2f} |\n",
        "\n",
        "**Best Model (based on RMSE):** {best_model}\n",
        "\n",
        "### Interpretation\n",
        "\n",
        "- **RMSE:** Measures the average prediction error in the same units as the target variable. Lower RMSE indicates better accuracy.\n",
        "- **R-squared:** Represents the proportion of variance in the target variable explained by the model. Higher R-squared indicates better fit.\n",
        "- **MAE:** Measures the average absolute difference between predicted and actual values. Lower MAE indicates better accuracy.\n",
        "- **Mean CV RMSE:** Average RMSE from cross-validation, providing a more robust estimate of model performance on unseen data.\n",
        "\n",
        "### Conclusion\n",
        "\n",
        "Based on the results, the **{best_model}** model demonstrates the best predictive performance for reliability scores, considering both RMSE and cross-validation results. However, further model refinement and feature engineering could potentially improve the results.\n",
        "\"\"\"\n",
        "\n",
        "# Print the markdown summary\n",
        "print(markdown_model_score_summary)\n"
      ],
      "metadata": {
        "colab": {
          "base_uri": "https://localhost:8080/"
        },
        "id": "aa3snkBfysCY",
        "outputId": "21912dd6-23a4-446c-a8f7-e7a844afb949"
      },
      "execution_count": null,
      "outputs": [
        {
          "output_type": "stream",
          "name": "stdout",
          "text": [
            "\n",
            "## Model Comparison\n",
            "\n",
            "| Model | RMSE | R-squared | MAE | Mean CV RMSE |\n",
            "|---|---|---|---|---|\n",
            "| Linear Regression | 1.66 | 0.99 | 0.27 | 0.37 |\n",
            "| Random Forest | 1.42 | 1.00 | 0.51 | 0.98 |\n",
            "| Gradient Boosting | 1.37 | 1.00 | 0.50 | 0.81 |\n",
            "| XGBoost | 1.35 | 1.00 | 0.48 | 1.01 |\n",
            "| ElasticNet | 7.34 | 0.87 | 5.61 | 6.93 |\n",
            "| Stacking Regressor | 1.66 | 0.99 | 0.27 | 0.36 |\n",
            "\n",
            "**Best Model (based on RMSE):** XG BOOST\n",
            "\n",
            "### Interpretation\n",
            "\n",
            "- **RMSE:** Measures the average prediction error in the same units as the target variable. Lower RMSE indicates better accuracy.\n",
            "- **R-squared:** Represents the proportion of variance in the target variable explained by the model. Higher R-squared indicates better fit.\n",
            "- **MAE:** Measures the average absolute difference between predicted and actual values. Lower MAE indicates better accuracy.\n",
            "- **Mean CV RMSE:** Average RMSE from cross-validation, providing a more robust estimate of model performance on unseen data.\n",
            "\n",
            "### Conclusion\n",
            "\n",
            "Based on the results, the **XG BOOST** model demonstrates the best predictive performance for reliability scores, considering both RMSE and cross-validation results. However, further model refinement and feature engineering could potentially improve the results.\n",
            "\n"
          ]
        }
      ]
    },
    {
      "cell_type": "markdown",
      "source": [
        "#### **Model Comparison**"
      ],
      "metadata": {
        "id": "b6lOIAS7tmjb"
      }
    },
    {
      "cell_type": "markdown",
      "source": [
        "| Model | RMSE | R-squared | MAE | Mean CV RMSE |\n",
        "|---|---|---|---|---|\n",
        "| Linear Regression | 1.70 | 0.99 | 0.28 | 0.37 |\n",
        "| Random Forest | 1.40 | 1.00 | 0.51 | 0.97 |\n",
        "| Gradient Boosting | 1.37 | 1.00 | 0.50 | 0.81 |\n",
        "| XGBoost | 1.35 | 1.00 | 0.48 | 1.01 |\n",
        "| ElasticNet | 1.23 | 1.00 | 0.28 | 0.57 |\n",
        "| Stacking Regressor | 1.70 | 0.99 | 0.28 | 0.36 |\n",
        "\n",
        "**Best Model (based on RMSE):** Elastic Net"
      ],
      "metadata": {
        "id": "pFl2PgTdy_AF"
      }
    },
    {
      "cell_type": "markdown",
      "source": [
        "#### Interpretation\n",
        "\n",
        "- **RMSE:** Measures the average prediction error in the same units as the target variable. Lower RMSE indicates better accuracy.\n",
        "- **R-squared:** Represents the proportion of variance in the target variable explained by the model. Higher R-squared indicates better fit.\n",
        "- **MAE:** Measures the average absolute difference between predicted and actual values. Lower MAE indicates better accuracy.\n",
        "- **Mean CV RMSE:** Average RMSE from cross-validation, providing a more robust estimate of model performance on unseen data."
      ],
      "metadata": {
        "id": "Zo0MMoTBt6tM"
      }
    },
    {
      "cell_type": "markdown",
      "source": [
        "#### Conclusion\n",
        "\n",
        "Based on the results, the **ElasticNet** model demonstrates the best predictive performance for reliability scores, considering both RMSE and cross-validation results. However, further model refinement and feature engineering could potentially improve the results."
      ],
      "metadata": {
        "id": "gldUayAAtyKm"
      }
    },
    {
      "cell_type": "markdown",
      "source": [
        "### **Summary of the Modelling Step**"
      ],
      "metadata": {
        "id": "C5QqFeYlsGBb"
      }
    },
    {
      "cell_type": "code",
      "source": [
        "# Summary of our modelling step\n",
        "\n",
        "# Assigned it to a variable called modelling_summary\n",
        "\n",
        "modelling_summary = \"\"\"\n",
        "## Modelling\n",
        "\n",
        "In this step, we aimed to develop a predictive model for reliability scores based on the preprocessed data. We experimented with various regression algorithms, including:\n",
        "\n",
        "- **Linear Regression:** A simple linear model to establish a baseline.\n",
        "- **Random Forest:** An ensemble method using multiple decision trees for improved accuracy and robustness.\n",
        "- **Gradient Boosting:** Another ensemble technique that sequentially builds trees to minimize prediction errors.\n",
        "- **XGBoost:** A highly optimized gradient boosting algorithm known for its efficiency and performance.\n",
        "- **ElasticNet:** A linear model with regularization to prevent overfitting and improve generalization.\n",
        "- **Stacking Regressor:** An ensemble method that combines predictions from multiple base models to potentially achieve even better performance.\n",
        "\n",
        "We evaluated the models using metrics such as Root Mean Squared Error (RMSE), R-squared, and Mean Absolute Error (MAE). Additionally, we performed k-fold cross-validation to obtain a more reliable estimate of model performance on unseen data.\n",
        "\n",
        "The results indicated that the **ElasticNet** model achieved the lowest RMSE and demonstrated strong performance in cross-validation, suggesting it as a suitable candidate for predicting reliability scores. However, further model refinement and feature engineering could be explored to potentially enhance the results.\n",
        "\"\"\"\n",
        "print(modelling_summary)\n"
      ],
      "metadata": {
        "colab": {
          "base_uri": "https://localhost:8080/"
        },
        "id": "nf-0v7dn1vJm",
        "outputId": "13f2baa4-d065-45a5-c9d4-d279add41a34"
      },
      "execution_count": null,
      "outputs": [
        {
          "output_type": "stream",
          "name": "stdout",
          "text": [
            "\n",
            "## Modelling\n",
            "\n",
            "In this step, we aimed to develop a predictive model for reliability scores based on the preprocessed data. We experimented with various regression algorithms, including:\n",
            "\n",
            "- **Linear Regression:** A simple linear model to establish a baseline.\n",
            "- **Random Forest:** An ensemble method using multiple decision trees for improved accuracy and robustness.\n",
            "- **Gradient Boosting:** Another ensemble technique that sequentially builds trees to minimize prediction errors.\n",
            "- **XGBoost:** A highly optimized gradient boosting algorithm known for its efficiency and performance.\n",
            "- **ElasticNet:** A linear model with regularization to prevent overfitting and improve generalization.\n",
            "- **Stacking Regressor:** An ensemble method that combines predictions from multiple base models to potentially achieve even better performance.\n",
            "\n",
            "We evaluated the models using metrics such as Root Mean Squared Error (RMSE), R-squared, and Mean Absolute Error (MAE). Additionally, we performed k-fold cross-validation to obtain a more reliable estimate of model performance on unseen data.\n",
            "\n",
            "The results indicated that the **ElasticNet** model achieved the lowest RMSE and demonstrated strong performance in cross-validation, suggesting it as a suitable candidate for predicting reliability scores. However, further model refinement and feature engineering could be explored to potentially enhance the results.\n",
            "\n"
          ]
        }
      ]
    },
    {
      "cell_type": "code",
      "source": [
        "drive.mount('/content/drive')\n",
        "\n",
        "# Assuming 'modelling_summary' is your variable containing the report text\n",
        "with open('/content/drive/My Drive/modelling_summary.txt', 'w') as f:\n",
        "  f.write(modelling_summary)"
      ],
      "metadata": {
        "colab": {
          "base_uri": "https://localhost:8080/"
        },
        "id": "8-0Ifxlcq25c",
        "outputId": "4f2267d4-c8fc-4353-9a42-ba1a61255bb0"
      },
      "execution_count": null,
      "outputs": [
        {
          "output_type": "stream",
          "name": "stdout",
          "text": [
            "Mounted at /content/drive\n"
          ]
        }
      ]
    }
  ]
}