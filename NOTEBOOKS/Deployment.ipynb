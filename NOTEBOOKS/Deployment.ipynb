{
  "nbformat": 4,
  "nbformat_minor": 0,
  "metadata": {
    "colab": {
      "provenance": []
    },
    "kernelspec": {
      "name": "python3",
      "display_name": "Python 3"
    },
    "language_info": {
      "name": "python"
    }
  },
  "cells": [
    {
      "cell_type": "markdown",
      "source": [],
      "metadata": {
        "id": "1Wj-UdWssckN"
      }
    },
    {
      "cell_type": "markdown",
      "source": [
        "# **Recommender System for Best Insurance Provider  in Kenya**"
      ],
      "metadata": {
        "id": "FJvgbbLtkrAh"
      }
    },
    {
      "cell_type": "markdown",
      "source": [
        "## **Business Understanding**"
      ],
      "metadata": {
        "id": "X4Y4nOzduqKT"
      }
    },
    {
      "cell_type": "markdown",
      "metadata": {
        "id": "zWU8NcRNVr8H"
      },
      "source": [
        "According to Cytonn's report on Kenya's listed insurance sector for H1 2023, insurance penetration in Kenya remains historically low. As of FY 2022, penetration stood at just 2.3%, according to the Kenya National Bureau of Statistics (KNBS) 2023 Economic Survey. This is notably below the global average of 7.0%, as reported by the Swiss Re Institute. The low penetration rate is largely attributed to the perception of insurance as a luxury rather than a necessity, and it is often purchased only when required or mandated by regulation. Additionally, a pervasive mistrust of insurance providers has significantly contributed to the low uptake.\n",
        "\n",
        "Despite the critical importance of non-liability insurance—such as health, property, and personal accident coverage—for financial protection against unforeseen events, many individuals find it challenging to identify a trustworthy insurance provider due to opaque information on claim settlement records. This project seeks to address this pressing issue by simplifying the process of selecting a suitable insurance provider based on their performance in settling non-liability claims. By enhancing transparency and fostering trust in insurance providers, the project aims to boost insurance uptake and overall customer satisfaction."
      ]
    },
    {
      "cell_type": "code",
      "source": [
        "# Assigning the text in the previous cell to a variable named Business_understanding\n",
        "\n",
        "Business_understanding = \"\"\"# # **Recommender System for Best Insurance Provider  in Kenya**\n",
        "# ## **Business Understanding**\n",
        "# According to Cytonn's report on Kenya's listed insurance sector for H1 2023, insurance penetration in Kenya remains historically low. As of FY 2022, penetration stood at just 2.3%, according to the Kenya National Bureau of Statistics (KNBS) 2023 Economic Survey. This is notably below the global average of 7.0%, as reported by the Swiss Re Institute. The low penetration rate is largely attributed to the perception of insurance as a luxury rather than a necessity, and it is often purchased only when required or mandated by regulation. Additionally, a pervasive mistrust of insurance providers has significantly contributed to the low uptake.\n",
        "#\n",
        "# Despite the critical importance of non-liability insurance—such as health, property, and personal accident coverage—for financial protection against unforeseen events, many individuals find it challenging to identify a trustworthy insurance provider due to opaque information on claim settlement records. This project seeks to address this pressing issue by simplifying the process of selecting a suitable insurance provider based on their performance in settling non-liability claims. By enhancing transparency and fostering trust in insurance providers, the project aims to boost insurance uptake and overall customer satisfaction.\"\"\"\n"
      ],
      "metadata": {
        "id": "IEcsgS62osl9"
      },
      "execution_count": 2,
      "outputs": []
    },
    {
      "cell_type": "markdown",
      "source": [
        "## **Problem Statement**"
      ],
      "metadata": {
        "id": "89mWsnyhu35e"
      }
    },
    {
      "cell_type": "markdown",
      "metadata": {
        "id": "HU1ys74kV6et"
      },
      "source": [
        "Kenya faces a significant challenge with low insurance penetration, standing at just 2.3% as of FY 2022, well below the global average of 7.0%. This disparity is largely due to the perception of insurance as a luxury rather than a necessity, coupled with widespread mistrust towards insurance providers. Many Kenyans only purchase insurance when mandated or compelled by regulation, undermining the financial protection benefits offered by non-liability insurance such as health, property, and personal accident coverage."
      ]
    },
    {
      "cell_type": "code",
      "source": [
        "# Assigning the text in the previous cell to a variable named problem statement\n",
        "\n",
        "problem_statement = \"\"\"#\n",
        "# ## **Problem Statement**\n",
        "# Kenya faces a significant challenge with low insurance penetration, standing at just 2.3% as of FY 2022, well below the global average of 7.0%. This disparity is largely due to the perception of insurance as a luxury rather than a necessity, coupled with widespread mistrust towards insurance providers. Many Kenyans only purchase insurance when mandated or compelled by regulation, undermining the financial protection benefits offered by non-liability insurance such as health, property, and personal accident coverage.\"\"\"\n"
      ],
      "metadata": {
        "id": "5nj7RdBeo5rY"
      },
      "execution_count": 3,
      "outputs": []
    },
    {
      "cell_type": "markdown",
      "source": [
        "## **Objectives**"
      ],
      "metadata": {
        "id": "EAsXT7Xou9U9"
      }
    },
    {
      "cell_type": "markdown",
      "metadata": {
        "id": "WjvSm2RCWCs6"
      },
      "source": [
        "Our project aims to address the challenges outlined in the business understanding and problem statement by developing a recommender system for the Kenyan insurance market. This system will leverage historical data to assess insurers based on their non-liability claim settlement performance. By offering transparent insights into insurer reliability and fostering trust between consumers and providers, we strive to achieve the following objectives:\n",
        "\n",
        "1. **Enhanced Transparency:** Provide clear and detailed information on insurers' performance to improve market transparency and empower customers to make informed decisions.\n",
        "\n",
        "2. **Increased Customer Trust:** Build greater trust between customers and insurance providers by showcasing insurers' reliability in settling non-liability claims.\n",
        "\n",
        "3. **Boosted Insurance Uptake:** Encourage increased insurance adoption by simplifying the process of finding trustworthy insurers, thereby raising overall market penetration.\n",
        "\n",
        "4. **Improved Customer Satisfaction:** Guide customers towards insurers with strong claim settlement records to enhance their overall satisfaction with the insurance experience."
      ]
    },
    {
      "cell_type": "code",
      "source": [
        "# Write objectives based on the Business_understanding and problem_statement variables and assign it a variable called objectives.\n",
        "\n",
        "objectives = \"\"\"### **Objectives**\n",
        "\n",
        "Our project aims to address the challenges outlined in the business understanding and problem statement by developing a recommender system for the Kenyan insurance market. This system will leverage historical data to assess insurers based on their non-liability claim settlement performance. By offering transparent insights into insurer reliability and fostering trust between consumers and providers, we strive to achieve the following objectives:\n",
        "\n",
        "1. **Enhanced Transparency:** Provide clear and detailed information on insurers' performance to improve market transparency and empower customers to make informed decisions.\n",
        "\n",
        "2. **Increased Customer Trust:** Build greater trust between customers and insurance providers by showcasing insurers' reliability in settling non-liability claims.\n",
        "\n",
        "3. **Boosted Insurance Uptake:** Encourage increased insurance adoption by simplifying the process of finding trustworthy insurers, thereby raising overall market penetration.\n",
        "\n",
        "4. **Improved Customer Satisfaction:** Guide customers towards insurers with strong claim settlement records to enhance their overall satisfaction with the insurance experience.\"\"\"\n",
        "print(objectives)\n"
      ],
      "metadata": {
        "colab": {
          "base_uri": "https://localhost:8080/"
        },
        "id": "4r5pZXuFojxc",
        "outputId": "47ecfed6-0ae6-4b31-a2cc-64183eb3ad4c"
      },
      "execution_count": 4,
      "outputs": [
        {
          "output_type": "stream",
          "name": "stdout",
          "text": [
            "### **Objectives**\n",
            "\n",
            "Our project aims to address the challenges outlined in the business understanding and problem statement by developing a recommender system for the Kenyan insurance market. This system will leverage historical data to assess insurers based on their non-liability claim settlement performance. By offering transparent insights into insurer reliability and fostering trust between consumers and providers, we strive to achieve the following objectives:\n",
            "\n",
            "1. **Enhanced Transparency:** Provide clear and detailed information on insurers' performance to improve market transparency and empower customers to make informed decisions.\n",
            "\n",
            "2. **Increased Customer Trust:** Build greater trust between customers and insurance providers by showcasing insurers' reliability in settling non-liability claims.\n",
            "\n",
            "3. **Boosted Insurance Uptake:** Encourage increased insurance adoption by simplifying the process of finding trustworthy insurers, thereby raising overall market penetration.\n",
            "\n",
            "4. **Improved Customer Satisfaction:** Guide customers towards insurers with strong claim settlement records to enhance their overall satisfaction with the insurance experience.\n"
          ]
        }
      ]
    },
    {
      "cell_type": "markdown",
      "metadata": {
        "id": "2D9aTAcfWMla"
      },
      "source": [
        "## **Metrics of Success**\n"
      ]
    },
    {
      "cell_type": "markdown",
      "source": [
        "**Prediction Accuracy Metrics**\n",
        "\n",
        "1. **RMSE (Root Mean Squared Error)**: For prediction of claim amounts or settlement amounts, RMSE measures the difference between predicted and actual values. Lower RMSE indicates better accuracy. It will serve as our target metric and any RMSE of 1-2% of the mean will be deemed acceptable with 1% being preferred.\n",
        "\n",
        "2. **MAE (Mean Absolute Error)**: Similar to RMSE but less sensitive to outliers. It measures the average absolute difference between predicted and actual values. Not necessarily predetermined but anything < 0.5 will be considered good.\n",
        "\n",
        "3. **R-squared (R²)**:  Indicates how well the model explains the variability of the target variable. Higher values indicate better performance. Any value above 0.85 will be considered as good."
      ],
      "metadata": {
        "id": "i8YCdGPSaX3x"
      }
    },
    {
      "cell_type": "code",
      "source": [
        "# Assigning the text from the previous cell to a variable called metrics\n",
        "\n",
        "metrics = \"\"\"# ## **Metrics of Success**\n",
        "#\n",
        "# **Prediction Accuracy Metrics**\n",
        "#\n",
        "# 1. **RMSE (Root Mean Squared Error)**: For prediction of claim amounts or settlement amounts, RMSE measures the difference between predicted and actual values. Lower RMSE indicates better accuracy. It will serve as our target metric and any RMSE of 1-2% of the mean will be deemed acceptable with 1% being preferred.\n",
        "#\n",
        "# 2. **MAE (Mean Absolute Error)**: Similar to RMSE but less sensitive to outliers. It measures the average absolute difference between predicted and actual values. Not necessarily predetermined but anything < 0.5 will be considered good.\n",
        "#\n",
        "# 3. **R-squared (R²)**:  Indicates how well the model explains the variability of the target variable. Higher values indicate better performance. Any value above 0.85 will be considered as good.\"\"\"\n"
      ],
      "metadata": {
        "id": "IWONoWxhgNVg"
      },
      "execution_count": 5,
      "outputs": []
    },
    {
      "cell_type": "markdown",
      "source": [
        "## **Data Understanding**"
      ],
      "metadata": {
        "id": "7Wmm4KouX58K"
      }
    },
    {
      "cell_type": "markdown",
      "metadata": {
        "id": "msQ0ioi0WXjQ"
      },
      "source": [
        "Our approach will involve analyzing aggregated data from multiple sources, including historical claim settlement records, insurer performance metrics, and customer feedback. By normalizing and processing this data, we aim to develop a robust recommendation model that aligns with consumer needs and market dynamics.\n",
        "\n",
        "The dataset obtained from Insurance Regulatory Authority(IRA) website (https://www.ira.go.ke/index.php/publications/statistical-reports/claims-settlement-*statistics*) contains the following columns:\n",
        "\n",
        "* **Date**: End date of the quarter.\n",
        "\n",
        "* **Insurer**: Name of the insurance company.\n",
        "\n",
        "* **Claims_outstanding_at_the_beginning**: Claims outstanding at the beginning of the period.\n",
        "\n",
        "* **Claims_intimated**: The initial notification or reporting of a claim by a policyholder to their insurance company.\n",
        "\n",
        "* **Claims_revived**:  insurance claims that were previously closed, denied, or settled but have been reopened for reconsideration or additional processing.\n",
        "\n",
        "* **Total_Claims_Payable**: Total claims payable (summation of claims outstanding at the beginning, claims intimated, and claims revived).\n",
        "\n",
        "* **Claims_paid**: these are the claims paid by the insurers during the quarter. The claims paid may include those outstanding at the beginning of the period and those intimated and revived during the quarter.\n",
        "\n",
        "* **Claims_declined**: Claims declined during the period.\n",
        "\n",
        "* **Claims_closed_as_no_claims**: notified claims for which the insurer\n",
        "makes provisions for liability, but the liability does not crystalize during the quarter.\n",
        "\n",
        "* **Total_Claims_Action_during_the_Quarter**: summation of the number of\n",
        "claims paid, claims declined, claims closed as no claims, and claims\n",
        "outstanding at the end of the quarter.\n",
        "\n",
        "* **Claims_outstanding_at_the_end**: Claims outstanding at the end of the period. Calculated as the subtraction of total claims action during the quarter from the total claims payable during the quarter.\n",
        "\n",
        "* **Claims_declined_ratio_(%)**:  proportion of the number of claims declined in relation to the total\n",
        "number of claims actionable during the quarter\n",
        "\n",
        "* **Claims_closed_as_no_claims_ratio (%)**: proportion of claims closed as no claims in relation to the total number\n",
        "of claims actionable during the quarter.\n",
        "\n",
        "* **Claim_payment_ratio_(%)**: proportion of the number of claims paid in relation to the total number\n",
        "of claims actionable during the quarter.\n",
        "\n",
        "* **Claim_payment_ratio_(%)_prev**: Previous quarter claim payment ratio."
      ]
    },
    {
      "cell_type": "code",
      "source": [
        "# Assigning the text from the previous cell to a variable called features.\n",
        "\n",
        "column_features = \"\"\"# ## **Data Understanding**\n",
        "# Our approach will involve analyzing aggregated data from multiple sources, including historical claim settlement records, insurer performance metrics, and customer feedback. By normalizing and processing this data, we aim to develop a robust recommendation model that aligns with consumer needs and market dynamics.\n",
        "#\n",
        "# The dataset obtained from Insurance Regulatory Authority(IRA) website (https://www.ira.go.ke/index.php/publications/statistical-reports/claims-settlement-*statistics*) contains the following columns:\n",
        "#\n",
        "# * **Date**: End date of the quarter.\n",
        "#\n",
        "# * **Insurer**: Name of the insurance company.\n",
        "#\n",
        "# * **Claims_outstanding_at_the_beginning**: Claims outstanding at the beginning of the period.\n",
        "#\n",
        "# * **Claims_intimated**: The initial notification or reporting of a claim by a policyholder to their insurance company.\n",
        "#\n",
        "# * **Claims_revived**:  insurance claims that were previously closed, denied, or settled but have been reopened for reconsideration or additional processing.\n",
        "#\n",
        "# * **Total_Claims_Payable**: Total claims payable (summation of claims outstanding at the beginning, claims intimated, and claims revived).\n",
        "#\n",
        "# * **Claims_paid**: these are the claims paid by the insurers during the quarter. The claims paid may include those outstanding at the beginning of the period and those intimated and revived during the quarter.\n",
        "#\n",
        "# * **Claims_declined**: Claims declined during the period.\n",
        "#\n",
        "# * **Claims_closed_as_no_claims**: notified claims for which the insurer\n",
        "# makes provisions for liability, but the liability does not crystalize during the quarter.\n",
        "#\n",
        "# * **Total_Claims_Action_during_the_Quarter**: summation of the number of\n",
        "# claims paid, claims declined, claims closed as no claims, and claims\n",
        "# outstanding at the end of the quarter.\n",
        "#\n",
        "# * **Claims_outstanding_at_the_end**: Claims outstanding at the end of the period. Calculated as the subtraction of total claims action during the quarter from the total claims payable during the quarter.\n",
        "#\n",
        "# * **Claims_declined_ratio_(%)**:  proportion of the number of claims declined in relation to the total\n",
        "# number of claims actionable during the quarter\n",
        "#\n",
        "# * **Claims_closed_as_no_claims_ratio (%)**: proportion of claims closed as no claims in relation to the total number\n",
        "# of claims actionable during the quarter.\n",
        "#\n",
        "# * **Claim_payment_ratio_(%)**: proportion of the number of claims paid in relation to the total number\n",
        "# of claims actionable during the quarter.\n",
        "#\n",
        "# * **Claim_payment_ratio_(%)_prev**: Previous quarter claim payment ratio.\"\"\"\n"
      ],
      "metadata": {
        "id": "CLwpa47lj1r3"
      },
      "execution_count": 6,
      "outputs": []
    },
    {
      "cell_type": "code",
      "source": [
        "#Identifying the possible column feature titles in the previous cell and save them as a markdown file called column_features in the content directory.\n",
        "\n",
        "%%writefile /content/column_features.md\n",
        "- Date\n",
        "- Insurer\n",
        "- Claims_outstanding_at_the_beginning\n",
        "- Claims_intimated\n",
        "- Claims_revived\n",
        "- Total_Claims_Payable\n",
        "- Claims_paid\n",
        "- Claims_declined\n",
        "- Claims_closed_as_no_claims\n",
        "- Total_Claims_Action_during_the_Quarter\n",
        "- Claims_outstanding_at_the_end\n",
        "- Claims_declined_ratio (%)\n",
        "- Claims_closed_as_no_claims_ratio (%)\n",
        "- Claim_payment_ratio (%)\n",
        "- Claim_payment_ratio (%)_prev\n"
      ],
      "metadata": {
        "colab": {
          "base_uri": "https://localhost:8080/"
        },
        "id": "OA6GCLOJp5N-",
        "outputId": "a6708eb3-c553-43d2-da94-f6a10201c51d"
      },
      "execution_count": 7,
      "outputs": [
        {
          "output_type": "stream",
          "name": "stdout",
          "text": [
            "Writing /content/column_features.md\n"
          ]
        }
      ]
    },
    {
      "cell_type": "code",
      "source": [
        "!pip install streamlit"
      ],
      "metadata": {
        "colab": {
          "base_uri": "https://localhost:8080/"
        },
        "id": "gRFQjkTAhLNu",
        "outputId": "c49bad2b-8f2f-4040-e56a-ef283da4e856"
      },
      "execution_count": 8,
      "outputs": [
        {
          "output_type": "stream",
          "name": "stdout",
          "text": [
            "Collecting streamlit\n",
            "  Downloading streamlit-1.37.1-py2.py3-none-any.whl.metadata (8.5 kB)\n",
            "Requirement already satisfied: altair<6,>=4.0 in /usr/local/lib/python3.10/dist-packages (from streamlit) (4.2.2)\n",
            "Requirement already satisfied: blinker<2,>=1.0.0 in /usr/lib/python3/dist-packages (from streamlit) (1.4)\n",
            "Requirement already satisfied: cachetools<6,>=4.0 in /usr/local/lib/python3.10/dist-packages (from streamlit) (5.4.0)\n",
            "Requirement already satisfied: click<9,>=7.0 in /usr/local/lib/python3.10/dist-packages (from streamlit) (8.1.7)\n",
            "Requirement already satisfied: numpy<3,>=1.20 in /usr/local/lib/python3.10/dist-packages (from streamlit) (1.26.4)\n",
            "Requirement already satisfied: packaging<25,>=20 in /usr/local/lib/python3.10/dist-packages (from streamlit) (24.1)\n",
            "Requirement already satisfied: pandas<3,>=1.3.0 in /usr/local/lib/python3.10/dist-packages (from streamlit) (2.1.4)\n",
            "Requirement already satisfied: pillow<11,>=7.1.0 in /usr/local/lib/python3.10/dist-packages (from streamlit) (9.4.0)\n",
            "Requirement already satisfied: protobuf<6,>=3.20 in /usr/local/lib/python3.10/dist-packages (from streamlit) (3.20.3)\n",
            "Requirement already satisfied: pyarrow>=7.0 in /usr/local/lib/python3.10/dist-packages (from streamlit) (14.0.2)\n",
            "Requirement already satisfied: requests<3,>=2.27 in /usr/local/lib/python3.10/dist-packages (from streamlit) (2.32.3)\n",
            "Requirement already satisfied: rich<14,>=10.14.0 in /usr/local/lib/python3.10/dist-packages (from streamlit) (13.7.1)\n",
            "Collecting tenacity<9,>=8.1.0 (from streamlit)\n",
            "  Downloading tenacity-8.5.0-py3-none-any.whl.metadata (1.2 kB)\n",
            "Requirement already satisfied: toml<2,>=0.10.1 in /usr/local/lib/python3.10/dist-packages (from streamlit) (0.10.2)\n",
            "Requirement already satisfied: typing-extensions<5,>=4.3.0 in /usr/local/lib/python3.10/dist-packages (from streamlit) (4.12.2)\n",
            "Collecting gitpython!=3.1.19,<4,>=3.0.7 (from streamlit)\n",
            "  Downloading GitPython-3.1.43-py3-none-any.whl.metadata (13 kB)\n",
            "Collecting pydeck<1,>=0.8.0b4 (from streamlit)\n",
            "  Downloading pydeck-0.9.1-py2.py3-none-any.whl.metadata (4.1 kB)\n",
            "Requirement already satisfied: tornado<7,>=6.0.3 in /usr/local/lib/python3.10/dist-packages (from streamlit) (6.3.3)\n",
            "Collecting watchdog<5,>=2.1.5 (from streamlit)\n",
            "  Downloading watchdog-4.0.2-py3-none-manylinux2014_x86_64.whl.metadata (38 kB)\n",
            "Requirement already satisfied: entrypoints in /usr/local/lib/python3.10/dist-packages (from altair<6,>=4.0->streamlit) (0.4)\n",
            "Requirement already satisfied: jinja2 in /usr/local/lib/python3.10/dist-packages (from altair<6,>=4.0->streamlit) (3.1.4)\n",
            "Requirement already satisfied: jsonschema>=3.0 in /usr/local/lib/python3.10/dist-packages (from altair<6,>=4.0->streamlit) (4.23.0)\n",
            "Requirement already satisfied: toolz in /usr/local/lib/python3.10/dist-packages (from altair<6,>=4.0->streamlit) (0.12.1)\n",
            "Collecting gitdb<5,>=4.0.1 (from gitpython!=3.1.19,<4,>=3.0.7->streamlit)\n",
            "  Downloading gitdb-4.0.11-py3-none-any.whl.metadata (1.2 kB)\n",
            "Requirement already satisfied: python-dateutil>=2.8.2 in /usr/local/lib/python3.10/dist-packages (from pandas<3,>=1.3.0->streamlit) (2.8.2)\n",
            "Requirement already satisfied: pytz>=2020.1 in /usr/local/lib/python3.10/dist-packages (from pandas<3,>=1.3.0->streamlit) (2024.1)\n",
            "Requirement already satisfied: tzdata>=2022.1 in /usr/local/lib/python3.10/dist-packages (from pandas<3,>=1.3.0->streamlit) (2024.1)\n",
            "Requirement already satisfied: charset-normalizer<4,>=2 in /usr/local/lib/python3.10/dist-packages (from requests<3,>=2.27->streamlit) (3.3.2)\n",
            "Requirement already satisfied: idna<4,>=2.5 in /usr/local/lib/python3.10/dist-packages (from requests<3,>=2.27->streamlit) (3.7)\n",
            "Requirement already satisfied: urllib3<3,>=1.21.1 in /usr/local/lib/python3.10/dist-packages (from requests<3,>=2.27->streamlit) (2.0.7)\n",
            "Requirement already satisfied: certifi>=2017.4.17 in /usr/local/lib/python3.10/dist-packages (from requests<3,>=2.27->streamlit) (2024.7.4)\n",
            "Requirement already satisfied: markdown-it-py>=2.2.0 in /usr/local/lib/python3.10/dist-packages (from rich<14,>=10.14.0->streamlit) (3.0.0)\n",
            "Requirement already satisfied: pygments<3.0.0,>=2.13.0 in /usr/local/lib/python3.10/dist-packages (from rich<14,>=10.14.0->streamlit) (2.16.1)\n",
            "Collecting smmap<6,>=3.0.1 (from gitdb<5,>=4.0.1->gitpython!=3.1.19,<4,>=3.0.7->streamlit)\n",
            "  Downloading smmap-5.0.1-py3-none-any.whl.metadata (4.3 kB)\n",
            "Requirement already satisfied: MarkupSafe>=2.0 in /usr/local/lib/python3.10/dist-packages (from jinja2->altair<6,>=4.0->streamlit) (2.1.5)\n",
            "Requirement already satisfied: attrs>=22.2.0 in /usr/local/lib/python3.10/dist-packages (from jsonschema>=3.0->altair<6,>=4.0->streamlit) (24.2.0)\n",
            "Requirement already satisfied: jsonschema-specifications>=2023.03.6 in /usr/local/lib/python3.10/dist-packages (from jsonschema>=3.0->altair<6,>=4.0->streamlit) (2023.12.1)\n",
            "Requirement already satisfied: referencing>=0.28.4 in /usr/local/lib/python3.10/dist-packages (from jsonschema>=3.0->altair<6,>=4.0->streamlit) (0.35.1)\n",
            "Requirement already satisfied: rpds-py>=0.7.1 in /usr/local/lib/python3.10/dist-packages (from jsonschema>=3.0->altair<6,>=4.0->streamlit) (0.20.0)\n",
            "Requirement already satisfied: mdurl~=0.1 in /usr/local/lib/python3.10/dist-packages (from markdown-it-py>=2.2.0->rich<14,>=10.14.0->streamlit) (0.1.2)\n",
            "Requirement already satisfied: six>=1.5 in /usr/local/lib/python3.10/dist-packages (from python-dateutil>=2.8.2->pandas<3,>=1.3.0->streamlit) (1.16.0)\n",
            "Downloading streamlit-1.37.1-py2.py3-none-any.whl (8.7 MB)\n",
            "\u001b[2K   \u001b[90m━━━━━━━━━━━━━━━━━━━━━━━━━━━━━━━━━━━━━━━━\u001b[0m \u001b[32m8.7/8.7 MB\u001b[0m \u001b[31m33.4 MB/s\u001b[0m eta \u001b[36m0:00:00\u001b[0m\n",
            "\u001b[?25hDownloading GitPython-3.1.43-py3-none-any.whl (207 kB)\n",
            "\u001b[2K   \u001b[90m━━━━━━━━━━━━━━━━━━━━━━━━━━━━━━━━━━━━━━━━\u001b[0m \u001b[32m207.3/207.3 kB\u001b[0m \u001b[31m12.8 MB/s\u001b[0m eta \u001b[36m0:00:00\u001b[0m\n",
            "\u001b[?25hDownloading pydeck-0.9.1-py2.py3-none-any.whl (6.9 MB)\n",
            "\u001b[2K   \u001b[90m━━━━━━━━━━━━━━━━━━━━━━━━━━━━━━━━━━━━━━━━\u001b[0m \u001b[32m6.9/6.9 MB\u001b[0m \u001b[31m61.6 MB/s\u001b[0m eta \u001b[36m0:00:00\u001b[0m\n",
            "\u001b[?25hDownloading tenacity-8.5.0-py3-none-any.whl (28 kB)\n",
            "Downloading watchdog-4.0.2-py3-none-manylinux2014_x86_64.whl (82 kB)\n",
            "\u001b[2K   \u001b[90m━━━━━━━━━━━━━━━━━━━━━━━━━━━━━━━━━━━━━━━━\u001b[0m \u001b[32m82.9/82.9 kB\u001b[0m \u001b[31m5.4 MB/s\u001b[0m eta \u001b[36m0:00:00\u001b[0m\n",
            "\u001b[?25hDownloading gitdb-4.0.11-py3-none-any.whl (62 kB)\n",
            "\u001b[2K   \u001b[90m━━━━━━━━━━━━━━━━━━━━━━━━━━━━━━━━━━━━━━━━\u001b[0m \u001b[32m62.7/62.7 kB\u001b[0m \u001b[31m3.8 MB/s\u001b[0m eta \u001b[36m0:00:00\u001b[0m\n",
            "\u001b[?25hDownloading smmap-5.0.1-py3-none-any.whl (24 kB)\n",
            "Installing collected packages: watchdog, tenacity, smmap, pydeck, gitdb, gitpython, streamlit\n",
            "  Attempting uninstall: tenacity\n",
            "    Found existing installation: tenacity 9.0.0\n",
            "    Uninstalling tenacity-9.0.0:\n",
            "      Successfully uninstalled tenacity-9.0.0\n",
            "Successfully installed gitdb-4.0.11 gitpython-3.1.43 pydeck-0.9.1 smmap-5.0.1 streamlit-1.37.1 tenacity-8.5.0 watchdog-4.0.2\n"
          ]
        }
      ]
    },
    {
      "cell_type": "markdown",
      "metadata": {
        "id": "on9llStkWhIr"
      },
      "source": [
        "**Importing Libraries**"
      ]
    },
    {
      "cell_type": "code",
      "execution_count": 9,
      "metadata": {
        "id": "cl9HSEZoW0uX"
      },
      "outputs": [],
      "source": [
        "#Data importation and exportation\n",
        "import os\n",
        "from google.colab import drive\n",
        "\n",
        "#Ignore warning messages\n",
        "import warnings\n",
        "warnings.filterwarnings(\"ignore\")\n",
        "\n",
        "# Data manipulation and analysis\n",
        "import pandas as pd\n",
        "import numpy as np\n",
        "\n",
        "# Visualization\n",
        "import matplotlib.pyplot as plt\n",
        "import seaborn as sns\n",
        "import plotly.graph_objs as go\n",
        "from scipy.stats import linregress\n",
        "\n",
        "# Statistical analysis\n",
        "from scipy import stats\n",
        "from statsmodels.stats.outliers_influence import variance_inflation_factor\n",
        "\n",
        "# Machine learning (preprocessing, models, metrics)\n",
        "from sklearn.preprocessing import LabelEncoder, OrdinalEncoder, MinMaxScaler\n",
        "from sklearn.model_selection import train_test_split, GridSearchCV\n",
        "from sklearn.preprocessing import StandardScaler\n",
        "from sklearn.impute import SimpleImputer\n",
        "from sklearn.linear_model import LinearRegression\n",
        "from sklearn.metrics import mean_squared_error, r2_score, mean_absolute_error\n",
        "from sklearn.ensemble import RandomForestRegressor\n",
        "from sklearn.ensemble import GradientBoostingRegressor\n",
        "import xgboost as xgb\n",
        "from sklearn.model_selection import cross_val_score\n",
        "from sklearn.linear_model import ElasticNet\n",
        "from sklearn.ensemble import StackingRegressor\n",
        "\n",
        "# Model deployment\n",
        "import streamlit as st\n",
        "import joblib\n",
        "from datetime import date"
      ]
    },
    {
      "cell_type": "markdown",
      "source": [
        "## 6. **Deployment**"
      ],
      "metadata": {
        "id": "zj-RYUf0vshL"
      }
    },
    {
      "cell_type": "code",
      "execution_count": 10,
      "metadata": {
        "colab": {
          "base_uri": "https://localhost:8080/"
        },
        "id": "wclAZ1VQeW6O",
        "outputId": "49750503-e240-46a1-e0c5-72fbd8089428"
      },
      "outputs": [
        {
          "output_type": "stream",
          "name": "stdout",
          "text": [
            "   Claims_closed_as_no_claims  Claims_declined_ratio_(%)  \\\n",
            "0                    0.378057                  -0.055479   \n",
            "1                   -0.085075                  -0.223516   \n",
            "2                   -0.078313                  -0.223516   \n",
            "3                   -0.084565                  -0.223516   \n",
            "4                   -0.085075                  -0.223516   \n",
            "\n",
            "   Claim_payment_ratio_(%)  Claims_closed_as_no_claims_ratio (%)  \\\n",
            "0                 2.223808                              0.049249   \n",
            "1                -0.158895                             -0.472385   \n",
            "2                 0.440747                             -0.028991   \n",
            "3                -0.164946                             -0.167443   \n",
            "4                 0.663652                             -0.472385   \n",
            "\n",
            "   Insurer_Encoded  Reliability_Label_Encoded  \n",
            "0        -1.372682                   1.107806  \n",
            "1        -1.324615                  -1.258918  \n",
            "2        -1.276547                  -1.258918  \n",
            "3        -1.228480                  -1.258918  \n",
            "4        -1.180413                  -1.258918  \n",
            "   Reliability_Score\n",
            "0          87.497505\n",
            "1          41.152019\n",
            "2          52.453343\n",
            "3          40.656279\n",
            "4          57.404719\n"
          ]
        }
      ],
      "source": [
        "# Importing our data frames\n",
        "df_features = pd.read_csv('/content/normalized_features.csv')\n",
        "df_target = pd.read_csv('/content/target.csv')\n",
        "print(df_features.head())\n",
        "print(df_target.head())"
      ]
    },
    {
      "cell_type": "code",
      "source": [
        "# Splitting the dataset into training and testing sets\n",
        "X_train, X_test, y_train, y_test = train_test_split(df_features, df_target, test_size=0.2, random_state=42)"
      ],
      "metadata": {
        "id": "e3NtZOyAE_7d"
      },
      "execution_count": 11,
      "outputs": []
    },
    {
      "cell_type": "code",
      "execution_count": 12,
      "metadata": {
        "id": "4fYxEe36ErfN"
      },
      "outputs": [],
      "source": [
        "# Create an imputer object\n",
        "imputer = SimpleImputer(strategy='mean')  # Replace missing values with the mean\n",
        "\n",
        "# We fit the imputer to the training data and transform both training and testing data\n",
        "X_train_imputed = imputer.fit_transform(X_train)\n",
        "X_test_imputed = imputer.transform(X_test)\n",
        "\n",
        "# Handle missing values in y_train and y_test (if any)\n",
        "y_train_imputed = imputer.fit_transform(y_train.values.reshape(-1, 1)).ravel()\n",
        "y_test_imputed = imputer.transform(y_test.values.reshape(-1, 1)).ravel()\n"
      ]
    },
    {
      "cell_type": "code",
      "source": [
        "# Initialize the ElasticNet model\n",
        "elastic_net_model = ElasticNet(random_state=42)  # You can adjust hyperparameters here\n",
        "\n",
        "# Fit the model to the training data\n",
        "elastic_net_model.fit(X_train_imputed, y_train_imputed)\n",
        "\n",
        "# Make predictions on the test data\n",
        "y_pred_en = elastic_net_model.predict(X_test_imputed)\n",
        "\n",
        "# Evaluate the ElasticNet model\n",
        "mse_en = mean_squared_error(y_test_imputed, y_pred_en)\n",
        "rmse_en = np.sqrt(mse_en)\n",
        "r2_en = r2_score(y_test_imputed, y_pred_en)\n",
        "mae_en = mean_absolute_error(y_test_imputed, y_pred_en)\n",
        "\n",
        "print(\"ElasticNet - Root Mean Squared Error:\", rmse_en)\n",
        "print(\"ElasticNet - R-squared:\", r2_en)\n",
        "print(\"ElasticNet - Mean Absolute Error:\", mae_en)\n"
      ],
      "metadata": {
        "colab": {
          "base_uri": "https://localhost:8080/"
        },
        "id": "38x5dI7vxXF5",
        "outputId": "29e608eb-1876-44cd-dbff-ce2e60d4f476"
      },
      "execution_count": 13,
      "outputs": [
        {
          "output_type": "stream",
          "name": "stdout",
          "text": [
            "ElasticNet - Root Mean Squared Error: 7.343995266939545\n",
            "ElasticNet - R-squared: 0.8687570346348801\n",
            "ElasticNet - Mean Absolute Error: 5.605689927194578\n"
          ]
        }
      ]
    },
    {
      "cell_type": "code",
      "source": [
        "# Identify the best model based on a chosen metric (e.g., RMSE)\n",
        "best_model = \"Elastic Net\"\n",
        "print(f\"The best model based on RMSE is: {best_model}\")"
      ],
      "metadata": {
        "colab": {
          "base_uri": "https://localhost:8080/"
        },
        "id": "ChgG3UUSx6y3",
        "outputId": "b38258a2-72e5-4351-8ed2-d3d9229493ef"
      },
      "execution_count": 14,
      "outputs": [
        {
          "output_type": "stream",
          "name": "stdout",
          "text": [
            "The best model based on RMSE is: Elastic Net\n"
          ]
        }
      ]
    },
    {
      "cell_type": "code",
      "source": [
        "joblib.dump(elastic_net_model, 'en_model.pkl')"
      ],
      "metadata": {
        "colab": {
          "base_uri": "https://localhost:8080/"
        },
        "id": "mC7cg-EN5zWY",
        "outputId": "428fa4d5-d984-4458-d424-82bf0c6d43dc"
      },
      "execution_count": 15,
      "outputs": [
        {
          "output_type": "execute_result",
          "data": {
            "text/plain": [
              "['en_model.pkl']"
            ]
          },
          "metadata": {},
          "execution_count": 15
        }
      ]
    },
    {
      "cell_type": "code",
      "source": [
        "!ls -al /content/en_model.pkl"
      ],
      "metadata": {
        "id": "Vv3G6NYf6lor",
        "outputId": "db613771-6a45-4bab-9585-61e87f4f2219",
        "colab": {
          "base_uri": "https://localhost:8080/"
        }
      },
      "execution_count": 16,
      "outputs": [
        {
          "output_type": "stream",
          "name": "stdout",
          "text": [
            "-rw-r--r-- 1 root root 679 Aug 22 11:21 /content/en_model.pkl\n"
          ]
        }
      ]
    },
    {
      "cell_type": "code",
      "source": [
        "# Load the saved model\n",
        "elastic_net_deploy = joblib.load('en_model.pkl')\n",
        "\n",
        "# Now you can use the chosen model to make predictions\n",
        "# For example:\n",
        "# Define a function to make predictions\n",
        "def predict(normalized_features_df):\n",
        "    input_array = np.array(normalized_features_df).reshape(1, -1)\n",
        "    prediction = elastic_net_deploy.predict(normalized_features_df)\n",
        "    return prediction\n",
        "\n",
        "# Streamlit app layout\n",
        "st.title(\"ElasticNet Model Prediction App\")\n",
        "\n",
        "st.write(\"Enter the input features to get a prediction:\")\n",
        "\n",
        "# Example input fields (customize based on your model's features)\n",
        "Year = st.date_input(\"Year\", value=date.today())\n",
        "Insurer = st.text_input(\"Insurer\")\n",
        "Quarter = st.number_input(\"Quarter\", value=0.0)\n",
        "# Add more input fields as needed\n",
        "\n",
        "# Collect the inputs into a list\n",
        "input_data = [Year, Insurer, Quarter]\n",
        "\n",
        "# Button to trigger prediction\n",
        "if st.button(\"Predict\"):\n",
        "    prediction = predict(input_data)\n",
        "    st.write(f\"Predicted value: {prediction[0]}\")"
      ],
      "metadata": {
        "id": "nwOEZNH11ja1",
        "colab": {
          "base_uri": "https://localhost:8080/"
        },
        "outputId": "8383b5c0-37d0-4197-b307-6c1dee5bb68f"
      },
      "execution_count": 17,
      "outputs": [
        {
          "output_type": "stream",
          "name": "stderr",
          "text": [
            "2024-08-22 11:21:25.361 \n",
            "  \u001b[33m\u001b[1mWarning:\u001b[0m to view this Streamlit app on a browser, run it with the following\n",
            "  command:\n",
            "\n",
            "    streamlit run /usr/local/lib/python3.10/dist-packages/colab_kernel_launcher.py [ARGUMENTS]\n",
            "2024-08-22 11:21:25.366 Session state does not function when running a script without `streamlit run`\n"
          ]
        }
      ]
    },
    {
      "cell_type": "markdown",
      "source": [
        "### **Summary of our deployment step**"
      ],
      "metadata": {
        "id": "_FabAgRGmG4E"
      }
    },
    {
      "cell_type": "code",
      "source": [
        "# Summary of our deployment step\n",
        "\n",
        "deployment_summary = f\"\"\"\n",
        "## Deployment Summary\n",
        "\n",
        "In this final step, we focused on deploying the chosen {best_model} for practical use. The model was saved using joblib, enabling easy loading and utilization for predictions.\n",
        "\n",
        "This deployment strategy allows for:\n",
        "\n",
        "- **Efficient Predictions:** The saved model can be readily loaded to generate predictions on new data, either in real-time or batch mode.\n",
        "- **Scalability:** The deployment can be scaled based on the volume of prediction requests, ensuring timely responses.\n",
        "- **Integration:** The deployed model can be integrated into existing systems or applications, providing seamless access to reliability score predictions.\n",
        "\n",
        "By successfully deploying the XGBoost model, we have empowered stakeholders to leverage the model's predictive capabilities for informed decision-making and proactive reliability management.\n",
        "\"\"\"\n",
        "print(deployment_summary)\n"
      ],
      "metadata": {
        "colab": {
          "base_uri": "https://localhost:8080/"
        },
        "id": "gHp4snAuVwVO",
        "outputId": "4e98f8a6-50c5-444e-dd27-a032ec1b30ea"
      },
      "execution_count": 18,
      "outputs": [
        {
          "output_type": "stream",
          "name": "stdout",
          "text": [
            "\n",
            "## Deployment Summary\n",
            "\n",
            "In this final step, we focused on deploying the chosen Elastic Net for practical use. The model was saved using joblib, enabling easy loading and utilization for predictions.\n",
            "\n",
            "This deployment strategy allows for:\n",
            "\n",
            "- **Efficient Predictions:** The saved model can be readily loaded to generate predictions on new data, either in real-time or batch mode.\n",
            "- **Scalability:** The deployment can be scaled based on the volume of prediction requests, ensuring timely responses.\n",
            "- **Integration:** The deployed model can be integrated into existing systems or applications, providing seamless access to reliability score predictions.\n",
            "\n",
            "By successfully deploying the XGBoost model, we have empowered stakeholders to leverage the model's predictive capabilities for informed decision-making and proactive reliability management.\n",
            "\n"
          ]
        }
      ]
    },
    {
      "cell_type": "code",
      "source": [
        "drive.mount('/content/drive')\n",
        "\n",
        "# Assuming 'deployment_summary' is your variable containing the report text\n",
        "with open('/content/drive/My Drive/deployment_summary.txt', 'w') as f:\n",
        "  f.write(deployment_summary)"
      ],
      "metadata": {
        "colab": {
          "base_uri": "https://localhost:8080/"
        },
        "id": "8-0Ifxlcq25c",
        "outputId": "d90982f6-e352-4d3a-bdaf-71a91d0c9f13"
      },
      "execution_count": 19,
      "outputs": [
        {
          "output_type": "stream",
          "name": "stdout",
          "text": [
            "Mounted at /content/drive\n"
          ]
        }
      ]
    }
  ]
}